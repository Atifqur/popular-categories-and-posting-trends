{
 "cells": [
  {
   "cell_type": "markdown",
   "id": "94679655-5811-45f8-940d-16b6a740a77e",
   "metadata": {
    "id": "8e11b055"
   },
   "source": [
    "# Data Cleaning\n",
    "Cleaning the data by removing rows that have values which are missing, changing the data type of some values within a column, and removing columns which are not relevant to this task.\n",
    "#### Keeping relevant columns.\n",
    "Ending with three cleaned data sets."
   ]
  },
  {
   "cell_type": "code",
   "execution_count": 1,
   "id": "0a7f692d-c350-418e-b7a3-d37ad4265fb0",
   "metadata": {
    "id": "8e11b055"
   },
   "outputs": [],
   "source": [
    "import pandas as pd\n",
    "import numpy as np\n",
    "#import pydrive\n",
    "import matplotlib.pyplot as plt\n",
    "%matplotlib inline\n",
    "import seaborn as sns\n",
    "plt.rcParams['figure.figsize'] = (10, 10)"
   ]
  },
  {
   "cell_type": "markdown",
   "id": "6eac3837-20d6-4812-8e97-6a36784e69ec",
   "metadata": {
    "colab": {
     "base_uri": "https://localhost:8080/",
     "height": 331
    },
    "id": "42e8c5f0",
    "outputId": "a6f0e830-6871-4ca1-f5ce-fecc1fc20dc0"
   },
   "source": [
    "## Loading Reaction Types data"
   ]
  },
  {
   "cell_type": "code",
   "execution_count": 2,
   "id": "6c886638-2b9c-4a5d-867f-a02583dd7768",
   "metadata": {
    "colab": {
     "base_uri": "https://localhost:8080/",
     "height": 331
    },
    "id": "42e8c5f0",
    "outputId": "a6f0e830-6871-4ca1-f5ce-fecc1fc20dc0"
   },
   "outputs": [
    {
     "data": {
      "text/html": [
       "<div>\n",
       "<style scoped>\n",
       "    .dataframe tbody tr th:only-of-type {\n",
       "        vertical-align: middle;\n",
       "    }\n",
       "\n",
       "    .dataframe tbody tr th {\n",
       "        vertical-align: top;\n",
       "    }\n",
       "\n",
       "    .dataframe thead th {\n",
       "        text-align: right;\n",
       "    }\n",
       "</style>\n",
       "<table border=\"1\" class=\"dataframe\">\n",
       "  <thead>\n",
       "    <tr style=\"text-align: right;\">\n",
       "      <th></th>\n",
       "      <th>Unnamed: 0</th>\n",
       "      <th>Type</th>\n",
       "      <th>Sentiment</th>\n",
       "      <th>Score</th>\n",
       "    </tr>\n",
       "  </thead>\n",
       "  <tbody>\n",
       "    <tr>\n",
       "      <th>0</th>\n",
       "      <td>0</td>\n",
       "      <td>heart</td>\n",
       "      <td>positive</td>\n",
       "      <td>60</td>\n",
       "    </tr>\n",
       "    <tr>\n",
       "      <th>1</th>\n",
       "      <td>1</td>\n",
       "      <td>want</td>\n",
       "      <td>positive</td>\n",
       "      <td>70</td>\n",
       "    </tr>\n",
       "    <tr>\n",
       "      <th>2</th>\n",
       "      <td>2</td>\n",
       "      <td>disgust</td>\n",
       "      <td>negative</td>\n",
       "      <td>0</td>\n",
       "    </tr>\n",
       "    <tr>\n",
       "      <th>3</th>\n",
       "      <td>3</td>\n",
       "      <td>hate</td>\n",
       "      <td>negative</td>\n",
       "      <td>5</td>\n",
       "    </tr>\n",
       "    <tr>\n",
       "      <th>4</th>\n",
       "      <td>4</td>\n",
       "      <td>interested</td>\n",
       "      <td>positive</td>\n",
       "      <td>30</td>\n",
       "    </tr>\n",
       "  </tbody>\n",
       "</table>\n",
       "</div>"
      ],
      "text/plain": [
       "   Unnamed: 0        Type Sentiment  Score\n",
       "0           0       heart  positive     60\n",
       "1           1        want  positive     70\n",
       "2           2     disgust  negative      0\n",
       "3           3        hate  negative      5\n",
       "4           4  interested  positive     30"
      ]
     },
     "execution_count": 2,
     "metadata": {},
     "output_type": "execute_result"
    }
   ],
   "source": [
    "# loading Reaction Types data\n",
    "rt_url = 'https://drive.google.com/file/d/1ky9BBF3xSgC93zhLdWbDlF-9-L_4iGKK/view?usp=drive_link'\n",
    "rt_path = 'https://drive.google.com/uc?export=download&id='+rt_url.split('/')[-2]\n",
    "data_rt = pd.read_csv(rt_path)\n",
    "data_rt.head()"
   ]
  },
  {
   "cell_type": "code",
   "execution_count": 3,
   "id": "ab2eb625-1b03-447f-b41f-ec3581c384f1",
   "metadata": {
    "tags": []
   },
   "outputs": [
    {
     "name": "stdout",
     "output_type": "stream",
     "text": [
      "<class 'pandas.core.frame.DataFrame'>\n",
      "RangeIndex: 16 entries, 0 to 15\n",
      "Data columns (total 4 columns):\n",
      " #   Column      Non-Null Count  Dtype \n",
      "---  ------      --------------  ----- \n",
      " 0   Unnamed: 0  16 non-null     int64 \n",
      " 1   Type        16 non-null     object\n",
      " 2   Sentiment   16 non-null     object\n",
      " 3   Score       16 non-null     int64 \n",
      "dtypes: int64(2), object(2)\n",
      "memory usage: 644.0+ bytes\n"
     ]
    }
   ],
   "source": [
    "data_rt.info()"
   ]
  },
  {
   "cell_type": "markdown",
   "id": "262bfde1-e4d7-4c50-b847-3ca7c9fa4708",
   "metadata": {
    "tags": []
   },
   "source": [
    "### Dropping unnecessary columns"
   ]
  },
  {
   "cell_type": "code",
   "execution_count": 4,
   "id": "d0397c0f",
   "metadata": {
    "colab": {
     "base_uri": "https://localhost:8080/",
     "height": 424
    },
    "id": "d0397c0f",
    "outputId": "b2192b21-3a50-4181-f461-eaa72feb96f1"
   },
   "outputs": [],
   "source": [
    "# dropping unnecessary columns by column indices\n",
    "columns_to_drop = [data_rt.columns[0]] # Dropping unnamed column by index and named column by name\n",
    "data_rt.drop(columns=columns_to_drop, inplace=True)  # Dropping changes directly to the DataFrame data_rt\n"
   ]
  },
  {
   "cell_type": "code",
   "execution_count": 5,
   "id": "15f0ea46-8147-4b12-be15-8cc0c362fcdb",
   "metadata": {
    "colab": {
     "base_uri": "https://localhost:8080/",
     "height": 424
    },
    "id": "d0397c0f",
    "outputId": "b2192b21-3a50-4181-f461-eaa72feb96f1"
   },
   "outputs": [],
   "source": [
    "# Renaming column name\n",
    "data_rt.rename(columns={'Type': 'Reaction Type'}, inplace=True)"
   ]
  },
  {
   "cell_type": "markdown",
   "id": "b6a3cc6b-ab98-420d-84d9-75d2d5c59586",
   "metadata": {
    "tags": []
   },
   "source": [
    "### Displaying Clean Data : Reaction Type"
   ]
  },
  {
   "cell_type": "code",
   "execution_count": 6,
   "id": "8b673644-8316-4ccf-85b4-7fd9b5b2a025",
   "metadata": {
    "tags": []
   },
   "outputs": [
    {
     "data": {
      "text/html": [
       "<div>\n",
       "<style scoped>\n",
       "    .dataframe tbody tr th:only-of-type {\n",
       "        vertical-align: middle;\n",
       "    }\n",
       "\n",
       "    .dataframe tbody tr th {\n",
       "        vertical-align: top;\n",
       "    }\n",
       "\n",
       "    .dataframe thead th {\n",
       "        text-align: right;\n",
       "    }\n",
       "</style>\n",
       "<table border=\"1\" class=\"dataframe\">\n",
       "  <thead>\n",
       "    <tr style=\"text-align: right;\">\n",
       "      <th></th>\n",
       "      <th>Reaction Type</th>\n",
       "      <th>Sentiment</th>\n",
       "      <th>Score</th>\n",
       "    </tr>\n",
       "  </thead>\n",
       "  <tbody>\n",
       "    <tr>\n",
       "      <th>0</th>\n",
       "      <td>heart</td>\n",
       "      <td>positive</td>\n",
       "      <td>60</td>\n",
       "    </tr>\n",
       "    <tr>\n",
       "      <th>1</th>\n",
       "      <td>want</td>\n",
       "      <td>positive</td>\n",
       "      <td>70</td>\n",
       "    </tr>\n",
       "    <tr>\n",
       "      <th>2</th>\n",
       "      <td>disgust</td>\n",
       "      <td>negative</td>\n",
       "      <td>0</td>\n",
       "    </tr>\n",
       "    <tr>\n",
       "      <th>3</th>\n",
       "      <td>hate</td>\n",
       "      <td>negative</td>\n",
       "      <td>5</td>\n",
       "    </tr>\n",
       "    <tr>\n",
       "      <th>4</th>\n",
       "      <td>interested</td>\n",
       "      <td>positive</td>\n",
       "      <td>30</td>\n",
       "    </tr>\n",
       "    <tr>\n",
       "      <th>5</th>\n",
       "      <td>indifferent</td>\n",
       "      <td>neutral</td>\n",
       "      <td>20</td>\n",
       "    </tr>\n",
       "    <tr>\n",
       "      <th>6</th>\n",
       "      <td>love</td>\n",
       "      <td>positive</td>\n",
       "      <td>65</td>\n",
       "    </tr>\n",
       "    <tr>\n",
       "      <th>7</th>\n",
       "      <td>super love</td>\n",
       "      <td>positive</td>\n",
       "      <td>75</td>\n",
       "    </tr>\n",
       "    <tr>\n",
       "      <th>8</th>\n",
       "      <td>cherish</td>\n",
       "      <td>positive</td>\n",
       "      <td>70</td>\n",
       "    </tr>\n",
       "    <tr>\n",
       "      <th>9</th>\n",
       "      <td>adore</td>\n",
       "      <td>positive</td>\n",
       "      <td>72</td>\n",
       "    </tr>\n",
       "    <tr>\n",
       "      <th>10</th>\n",
       "      <td>like</td>\n",
       "      <td>positive</td>\n",
       "      <td>50</td>\n",
       "    </tr>\n",
       "    <tr>\n",
       "      <th>11</th>\n",
       "      <td>dislike</td>\n",
       "      <td>negative</td>\n",
       "      <td>10</td>\n",
       "    </tr>\n",
       "    <tr>\n",
       "      <th>12</th>\n",
       "      <td>intrigued</td>\n",
       "      <td>positive</td>\n",
       "      <td>45</td>\n",
       "    </tr>\n",
       "    <tr>\n",
       "      <th>13</th>\n",
       "      <td>peeking</td>\n",
       "      <td>neutral</td>\n",
       "      <td>35</td>\n",
       "    </tr>\n",
       "    <tr>\n",
       "      <th>14</th>\n",
       "      <td>scared</td>\n",
       "      <td>negative</td>\n",
       "      <td>15</td>\n",
       "    </tr>\n",
       "    <tr>\n",
       "      <th>15</th>\n",
       "      <td>worried</td>\n",
       "      <td>negative</td>\n",
       "      <td>12</td>\n",
       "    </tr>\n",
       "  </tbody>\n",
       "</table>\n",
       "</div>"
      ],
      "text/plain": [
       "   Reaction Type Sentiment  Score\n",
       "0          heart  positive     60\n",
       "1           want  positive     70\n",
       "2        disgust  negative      0\n",
       "3           hate  negative      5\n",
       "4     interested  positive     30\n",
       "5    indifferent   neutral     20\n",
       "6           love  positive     65\n",
       "7     super love  positive     75\n",
       "8        cherish  positive     70\n",
       "9          adore  positive     72\n",
       "10          like  positive     50\n",
       "11       dislike  negative     10\n",
       "12     intrigued  positive     45\n",
       "13       peeking   neutral     35\n",
       "14        scared  negative     15\n",
       "15       worried  negative     12"
      ]
     },
     "execution_count": 6,
     "metadata": {},
     "output_type": "execute_result"
    }
   ],
   "source": [
    "data_rt"
   ]
  },
  {
   "cell_type": "code",
   "execution_count": 7,
   "id": "317250e5-9639-4f77-b286-94ec0d9dec5e",
   "metadata": {
    "tags": []
   },
   "outputs": [],
   "source": [
    "# Saving clean data in csv format\n",
    "file_path = 'C:/Users/Atif/Documents/Atif/3 Internships/Accenture Data Analysis internship/ReactionTypes_cleaned_data.csv'\n",
    "data_rt.to_csv(file_path, index=False)"
   ]
  },
  {
   "cell_type": "raw",
   "id": "672ea819-e7c1-4338-a6c7-699729867b51",
   "metadata": {
    "tags": []
   },
   "source": [
    "# Saving clean data in csv format\n",
    "import pydrive\n",
    "#oauth2client==3.0.0\n",
    "from pydrive.auth import GoogleAuth\n",
    "from pydrive.drive import GoogleDrive\n",
    "\n",
    "# Authenticate and create the PyDrive client\n",
    "gauth = GoogleAuth()\n",
    "gauth.LocalWebserverAuth()  # This will open a new window/tab for authentication\n",
    "drive = GoogleDrive(gauth)\n",
    "\n",
    "# naming Python code file as \"my_code.py\"\n",
    "code_file_path = 'Data_Cleaning_Accenture.ipynb'\n",
    "\n",
    "# Upload the Python code file to Google Drive\n",
    "file = drive.CreateFile({'title': 'my_code.py'})\n",
    "file.Upload()\n"
   ]
  },
  {
   "cell_type": "markdown",
   "id": "7331cd99-ce5a-4b08-a8ed-c19cab585196",
   "metadata": {
    "colab": {
     "base_uri": "https://localhost:8080/",
     "height": 331
    },
    "id": "42e8c5f0",
    "outputId": "a6f0e830-6871-4ca1-f5ce-fecc1fc20dc0"
   },
   "source": [
    "# Loading Reactions data"
   ]
  },
  {
   "cell_type": "code",
   "execution_count": 8,
   "id": "10d8022d-7484-41ac-8746-06ad8a3ca9c6",
   "metadata": {
    "colab": {
     "base_uri": "https://localhost:8080/",
     "height": 331
    },
    "id": "42e8c5f0",
    "outputId": "a6f0e830-6871-4ca1-f5ce-fecc1fc20dc0"
   },
   "outputs": [
    {
     "data": {
      "text/html": [
       "<div>\n",
       "<style scoped>\n",
       "    .dataframe tbody tr th:only-of-type {\n",
       "        vertical-align: middle;\n",
       "    }\n",
       "\n",
       "    .dataframe tbody tr th {\n",
       "        vertical-align: top;\n",
       "    }\n",
       "\n",
       "    .dataframe thead th {\n",
       "        text-align: right;\n",
       "    }\n",
       "</style>\n",
       "<table border=\"1\" class=\"dataframe\">\n",
       "  <thead>\n",
       "    <tr style=\"text-align: right;\">\n",
       "      <th></th>\n",
       "      <th>Unnamed: 0</th>\n",
       "      <th>Content ID</th>\n",
       "      <th>User ID</th>\n",
       "      <th>Type</th>\n",
       "      <th>Datetime</th>\n",
       "    </tr>\n",
       "  </thead>\n",
       "  <tbody>\n",
       "    <tr>\n",
       "      <th>0</th>\n",
       "      <td>0</td>\n",
       "      <td>97522e57-d9ab-4bd6-97bf-c24d952602d2</td>\n",
       "      <td>NaN</td>\n",
       "      <td>NaN</td>\n",
       "      <td>2021-04-22 15:17:15</td>\n",
       "    </tr>\n",
       "    <tr>\n",
       "      <th>1</th>\n",
       "      <td>1</td>\n",
       "      <td>97522e57-d9ab-4bd6-97bf-c24d952602d2</td>\n",
       "      <td>5d454588-283d-459d-915d-c48a2cb4c27f</td>\n",
       "      <td>disgust</td>\n",
       "      <td>2020-11-07 09:43:50</td>\n",
       "    </tr>\n",
       "    <tr>\n",
       "      <th>2</th>\n",
       "      <td>2</td>\n",
       "      <td>97522e57-d9ab-4bd6-97bf-c24d952602d2</td>\n",
       "      <td>92b87fa5-f271-43e0-af66-84fac21052e6</td>\n",
       "      <td>dislike</td>\n",
       "      <td>2021-06-17 12:22:51</td>\n",
       "    </tr>\n",
       "  </tbody>\n",
       "</table>\n",
       "</div>"
      ],
      "text/plain": [
       "   Unnamed: 0                            Content ID  \\\n",
       "0           0  97522e57-d9ab-4bd6-97bf-c24d952602d2   \n",
       "1           1  97522e57-d9ab-4bd6-97bf-c24d952602d2   \n",
       "2           2  97522e57-d9ab-4bd6-97bf-c24d952602d2   \n",
       "\n",
       "                                User ID     Type             Datetime  \n",
       "0                                   NaN      NaN  2021-04-22 15:17:15  \n",
       "1  5d454588-283d-459d-915d-c48a2cb4c27f  disgust  2020-11-07 09:43:50  \n",
       "2  92b87fa5-f271-43e0-af66-84fac21052e6  dislike  2021-06-17 12:22:51  "
      ]
     },
     "execution_count": 8,
     "metadata": {},
     "output_type": "execute_result"
    }
   ],
   "source": [
    "# loading Reactions data\n",
    "r_url = 'https://drive.google.com/file/d/1LKulWIZqAgEj8f-MI8OKwrjsxmc5Mt6l/view?usp=drive_link'\n",
    "r_path = 'https://drive.google.com/uc?export=download&id='+r_url.split('/')[-2]\n",
    "data_r = pd.read_csv(r_path)\n",
    "data_r.head(3)"
   ]
  },
  {
   "cell_type": "markdown",
   "id": "0bd731a2-244f-4558-b6fc-3299a19d2d8e",
   "metadata": {},
   "source": [
    "### Dropping unnecessary columns"
   ]
  },
  {
   "cell_type": "code",
   "execution_count": 9,
   "id": "9e7653c8-c150-4480-a559-6778bf17f84d",
   "metadata": {
    "tags": []
   },
   "outputs": [],
   "source": [
    "# dropping unnecessary columns by column indices\n",
    "columns_to_drop = [data_r.columns[0],'User ID'] # Dropping unnamed column by index and named column by name\n",
    "data_r.drop(columns=columns_to_drop, inplace=True)  # Dropping changes directly to the DataFrame data_r"
   ]
  },
  {
   "cell_type": "code",
   "execution_count": 10,
   "id": "8c731967-75a0-44b4-affc-de0c90020c9f",
   "metadata": {
    "tags": []
   },
   "outputs": [
    {
     "data": {
      "text/plain": [
       "(25553, 3)"
      ]
     },
     "execution_count": 10,
     "metadata": {},
     "output_type": "execute_result"
    }
   ],
   "source": [
    "data_r.shape # Rows and column"
   ]
  },
  {
   "cell_type": "code",
   "execution_count": 11,
   "id": "fccf8433-7e73-4be2-a7ac-336d348ce42d",
   "metadata": {
    "tags": []
   },
   "outputs": [
    {
     "data": {
      "text/html": [
       "<div>\n",
       "<style scoped>\n",
       "    .dataframe tbody tr th:only-of-type {\n",
       "        vertical-align: middle;\n",
       "    }\n",
       "\n",
       "    .dataframe tbody tr th {\n",
       "        vertical-align: top;\n",
       "    }\n",
       "\n",
       "    .dataframe thead th {\n",
       "        text-align: right;\n",
       "    }\n",
       "</style>\n",
       "<table border=\"1\" class=\"dataframe\">\n",
       "  <thead>\n",
       "    <tr style=\"text-align: right;\">\n",
       "      <th></th>\n",
       "      <th>Content ID</th>\n",
       "      <th>Type</th>\n",
       "      <th>Datetime</th>\n",
       "    </tr>\n",
       "  </thead>\n",
       "  <tbody>\n",
       "    <tr>\n",
       "      <th>0</th>\n",
       "      <td>97522e57-d9ab-4bd6-97bf-c24d952602d2</td>\n",
       "      <td>NaN</td>\n",
       "      <td>2021-04-22 15:17:15</td>\n",
       "    </tr>\n",
       "    <tr>\n",
       "      <th>1</th>\n",
       "      <td>97522e57-d9ab-4bd6-97bf-c24d952602d2</td>\n",
       "      <td>disgust</td>\n",
       "      <td>2020-11-07 09:43:50</td>\n",
       "    </tr>\n",
       "    <tr>\n",
       "      <th>2</th>\n",
       "      <td>97522e57-d9ab-4bd6-97bf-c24d952602d2</td>\n",
       "      <td>dislike</td>\n",
       "      <td>2021-06-17 12:22:51</td>\n",
       "    </tr>\n",
       "  </tbody>\n",
       "</table>\n",
       "</div>"
      ],
      "text/plain": [
       "                             Content ID     Type             Datetime\n",
       "0  97522e57-d9ab-4bd6-97bf-c24d952602d2      NaN  2021-04-22 15:17:15\n",
       "1  97522e57-d9ab-4bd6-97bf-c24d952602d2  disgust  2020-11-07 09:43:50\n",
       "2  97522e57-d9ab-4bd6-97bf-c24d952602d2  dislike  2021-06-17 12:22:51"
      ]
     },
     "execution_count": 11,
     "metadata": {},
     "output_type": "execute_result"
    }
   ],
   "source": [
    "data_r.head(3)"
   ]
  },
  {
   "cell_type": "markdown",
   "id": "3edab1b5-467e-492a-b54a-bd559b3f6e18",
   "metadata": {},
   "source": [
    "## Identifying null values"
   ]
  },
  {
   "cell_type": "code",
   "execution_count": 12,
   "id": "2f36449e-fe34-4e75-a4ce-2906f8d8589a",
   "metadata": {
    "tags": []
   },
   "outputs": [
    {
     "data": {
      "text/plain": [
       "Content ID    False\n",
       "Type           True\n",
       "Datetime      False\n",
       "dtype: bool"
      ]
     },
     "execution_count": 12,
     "metadata": {},
     "output_type": "execute_result"
    }
   ],
   "source": [
    "na_values = data_r.isnull().any() # Checking na values\n",
    "na_values"
   ]
  },
  {
   "cell_type": "code",
   "execution_count": 13,
   "id": "a6572fbc-8ff9-4eed-9958-1354816b2eec",
   "metadata": {
    "tags": []
   },
   "outputs": [
    {
     "data": {
      "text/plain": [
       "1"
      ]
     },
     "execution_count": 13,
     "metadata": {},
     "output_type": "execute_result"
    }
   ],
   "source": [
    "# Total number of missing values columns\n",
    "na_values.sum().sum()"
   ]
  },
  {
   "cell_type": "code",
   "execution_count": 14,
   "id": "41300e59-09ca-4e48-93e4-f35ab69b6c84",
   "metadata": {
    "tags": []
   },
   "outputs": [
    {
     "data": {
      "text/plain": [
       "Content ID      0\n",
       "Type          980\n",
       "Datetime        0\n",
       "dtype: int64"
      ]
     },
     "execution_count": 14,
     "metadata": {},
     "output_type": "execute_result"
    }
   ],
   "source": [
    "na_values = data_r.isnull() # identifying na values\n",
    "na_count = na_values.sum() # counting na values\n",
    "na_count"
   ]
  },
  {
   "cell_type": "code",
   "execution_count": 15,
   "id": "f8f6fd82-8076-475b-957d-47709eaad2ee",
   "metadata": {
    "tags": []
   },
   "outputs": [
    {
     "data": {
      "text/plain": [
       "980"
      ]
     },
     "execution_count": 15,
     "metadata": {},
     "output_type": "execute_result"
    }
   ],
   "source": [
    "# Total null values in data_r\n",
    "na_count.sum()"
   ]
  },
  {
   "cell_type": "code",
   "execution_count": 16,
   "id": "d4d4e13e-377c-4dc8-88d4-72d04e3f27c8",
   "metadata": {
    "tags": []
   },
   "outputs": [
    {
     "data": {
      "text/plain": [
       "<Axes: >"
      ]
     },
     "execution_count": 16,
     "metadata": {},
     "output_type": "execute_result"
    },
    {
     "data": {
      "image/png": "[encoded data removed]",
      "text/plain": [
       "<Figure size 500x500 with 2 Axes>"
      ]
     },
     "metadata": {},
     "output_type": "display_data"
    }
   ],
   "source": [
    "#plotting null values\n",
    "plt.figure(figsize=(5,5))\n",
    "sns.set(font_scale = 0.8)\n",
    "sns.heatmap(data_r.isnull())"
   ]
  },
  {
   "cell_type": "markdown",
   "id": "30a820a1-a0bd-4507-af32-d25a9b99a38b",
   "metadata": {
    "tags": []
   },
   "source": [
    "### Dropping na rows"
   ]
  },
  {
   "cell_type": "code",
   "execution_count": 17,
   "id": "db353c4e-a742-4779-9693-0e573b18ae18",
   "metadata": {
    "tags": []
   },
   "outputs": [],
   "source": [
    "#dropping na rows if missing data is less or equal to 5%\n",
    "data_r.dropna(axis=0, how= 'any', inplace=True) # axix = rows"
   ]
  },
  {
   "cell_type": "code",
   "execution_count": 18,
   "id": "77566271-6661-4c0e-aa3e-6e0abbf52fbb",
   "metadata": {
    "tags": []
   },
   "outputs": [
    {
     "data": {
      "text/plain": [
       "(24573, 3)"
      ]
     },
     "execution_count": 18,
     "metadata": {},
     "output_type": "execute_result"
    }
   ],
   "source": [
    "data_r.shape # Rows and columns after dropping na's"
   ]
  },
  {
   "cell_type": "code",
   "execution_count": 19,
   "id": "85f02b02-8451-4b2d-92e9-6af7d98cef79",
   "metadata": {
    "tags": []
   },
   "outputs": [
    {
     "data": {
      "text/plain": [
       "Content ID    0\n",
       "Type          0\n",
       "Datetime      0\n",
       "dtype: int64"
      ]
     },
     "execution_count": 19,
     "metadata": {},
     "output_type": "execute_result"
    }
   ],
   "source": [
    "data_r.isna().sum()"
   ]
  },
  {
   "cell_type": "code",
   "execution_count": 20,
   "id": "3f1467eb-5468-4d0b-98f0-3cf3b95f6c16",
   "metadata": {
    "tags": []
   },
   "outputs": [
    {
     "data": {
      "text/plain": [
       "<Axes: >"
      ]
     },
     "execution_count": 20,
     "metadata": {},
     "output_type": "execute_result"
    },
    {
     "data": {
      "image/png": "[encoded data removed]",
      "text/plain": [
       "<Figure size 500x500 with 2 Axes>"
      ]
     },
     "metadata": {},
     "output_type": "display_data"
    }
   ],
   "source": [
    "# plot after dropping null values\n",
    "plt.figure(figsize=(5,5))\n",
    "sns.set(font_scale = 0.8)\n",
    "sns.heatmap(data_r.isnull())"
   ]
  },
  {
   "cell_type": "markdown",
   "id": "4f0e5f87-c728-4eb0-a369-4d4c7dc556ce",
   "metadata": {},
   "source": [
    "### Displaying Cleaned Data: Reactions"
   ]
  },
  {
   "cell_type": "code",
   "execution_count": 21,
   "id": "a0c94909-c014-4578-9fc4-4155f43309f5",
   "metadata": {},
   "outputs": [],
   "source": [
    "# Renaming column name\n",
    "data_r.rename(columns={'Type': 'Reaction Type'}, inplace=True)"
   ]
  },
  {
   "cell_type": "code",
   "execution_count": 22,
   "id": "f6195d58-1dda-4f5b-8c1d-cfd12a695e15",
   "metadata": {},
   "outputs": [
    {
     "data": {
      "text/html": [
       "<div>\n",
       "<style scoped>\n",
       "    .dataframe tbody tr th:only-of-type {\n",
       "        vertical-align: middle;\n",
       "    }\n",
       "\n",
       "    .dataframe tbody tr th {\n",
       "        vertical-align: top;\n",
       "    }\n",
       "\n",
       "    .dataframe thead th {\n",
       "        text-align: right;\n",
       "    }\n",
       "</style>\n",
       "<table border=\"1\" class=\"dataframe\">\n",
       "  <thead>\n",
       "    <tr style=\"text-align: right;\">\n",
       "      <th></th>\n",
       "      <th>Content ID</th>\n",
       "      <th>Reaction Type</th>\n",
       "      <th>Datetime</th>\n",
       "    </tr>\n",
       "  </thead>\n",
       "  <tbody>\n",
       "    <tr>\n",
       "      <th>1</th>\n",
       "      <td>97522e57-d9ab-4bd6-97bf-c24d952602d2</td>\n",
       "      <td>disgust</td>\n",
       "      <td>2020-11-07 09:43:50</td>\n",
       "    </tr>\n",
       "    <tr>\n",
       "      <th>2</th>\n",
       "      <td>97522e57-d9ab-4bd6-97bf-c24d952602d2</td>\n",
       "      <td>dislike</td>\n",
       "      <td>2021-06-17 12:22:51</td>\n",
       "    </tr>\n",
       "    <tr>\n",
       "      <th>3</th>\n",
       "      <td>97522e57-d9ab-4bd6-97bf-c24d952602d2</td>\n",
       "      <td>scared</td>\n",
       "      <td>2021-04-18 05:13:58</td>\n",
       "    </tr>\n",
       "  </tbody>\n",
       "</table>\n",
       "</div>"
      ],
      "text/plain": [
       "                             Content ID Reaction Type             Datetime\n",
       "1  97522e57-d9ab-4bd6-97bf-c24d952602d2       disgust  2020-11-07 09:43:50\n",
       "2  97522e57-d9ab-4bd6-97bf-c24d952602d2       dislike  2021-06-17 12:22:51\n",
       "3  97522e57-d9ab-4bd6-97bf-c24d952602d2        scared  2021-04-18 05:13:58"
      ]
     },
     "execution_count": 22,
     "metadata": {},
     "output_type": "execute_result"
    }
   ],
   "source": [
    "data_r.head(3)"
   ]
  },
  {
   "cell_type": "code",
   "execution_count": 23,
   "id": "1b1a5104-9bba-4fda-b2e7-5f8a236f1ea6",
   "metadata": {
    "tags": []
   },
   "outputs": [],
   "source": [
    "# Saving clean data in csv format\n",
    "file_path = 'C:/Users/Atif/Documents/Atif/3 Internships/Accenture Data Analysis internship/Reactions_cleaned_data.csv'\n",
    "data_r.to_csv(file_path, index=False)"
   ]
  },
  {
   "cell_type": "markdown",
   "id": "e3aadb6a-8a45-4ee7-a870-d9cf546e1a82",
   "metadata": {},
   "source": [
    "### Adding a default or filling a missing data"
   ]
  },
  {
   "cell_type": "code",
   "execution_count": 24,
   "id": "4425b0e1-ae74-4f5b-83c5-8120572b6e88",
   "metadata": {
    "tags": []
   },
   "outputs": [],
   "source": [
    "#data_r_with_0 = data_r.fillna(0)\n",
    "#data_r_with_0.head()"
   ]
  },
  {
   "cell_type": "code",
   "execution_count": 25,
   "id": "5d064aeb-016b-43b8-9839-049c458cab2b",
   "metadata": {
    "tags": []
   },
   "outputs": [],
   "source": [
    "# filling it with mean\n",
    "#data_r['Datetime'].mean()"
   ]
  },
  {
   "cell_type": "code",
   "execution_count": 26,
   "id": "5d6a1bef-164a-455e-9569-3ef7e7d9c114",
   "metadata": {
    "tags": []
   },
   "outputs": [],
   "source": [
    "#data_r_with_mean = data_r.Datetime.fillna(data_r['Datetime'].mean())"
   ]
  },
  {
   "cell_type": "markdown",
   "id": "76e71ed9-1f72-4d57-b72e-ed48bcc4f94e",
   "metadata": {
    "colab": {
     "base_uri": "https://localhost:8080/",
     "height": 331
    },
    "id": "42e8c5f0",
    "outputId": "a6f0e830-6871-4ca1-f5ce-fecc1fc20dc0"
   },
   "source": [
    "### Loading Content data"
   ]
  },
  {
   "cell_type": "code",
   "execution_count": 27,
   "id": "eaf1fa30-3cef-4d0c-87d7-685a3fb5db92",
   "metadata": {
    "colab": {
     "base_uri": "https://localhost:8080/",
     "height": 331
    },
    "id": "42e8c5f0",
    "outputId": "a6f0e830-6871-4ca1-f5ce-fecc1fc20dc0"
   },
   "outputs": [
    {
     "data": {
      "text/html": [
       "<div>\n",
       "<style scoped>\n",
       "    .dataframe tbody tr th:only-of-type {\n",
       "        vertical-align: middle;\n",
       "    }\n",
       "\n",
       "    .dataframe tbody tr th {\n",
       "        vertical-align: top;\n",
       "    }\n",
       "\n",
       "    .dataframe thead th {\n",
       "        text-align: right;\n",
       "    }\n",
       "</style>\n",
       "<table border=\"1\" class=\"dataframe\">\n",
       "  <thead>\n",
       "    <tr style=\"text-align: right;\">\n",
       "      <th></th>\n",
       "      <th>Unnamed: 0</th>\n",
       "      <th>Content ID</th>\n",
       "      <th>User ID</th>\n",
       "      <th>Type</th>\n",
       "      <th>Category</th>\n",
       "      <th>URL</th>\n",
       "    </tr>\n",
       "  </thead>\n",
       "  <tbody>\n",
       "    <tr>\n",
       "      <th>0</th>\n",
       "      <td>0</td>\n",
       "      <td>97522e57-d9ab-4bd6-97bf-c24d952602d2</td>\n",
       "      <td>8d3cd87d-8a31-4935-9a4f-b319bfe05f31</td>\n",
       "      <td>photo</td>\n",
       "      <td>Studying</td>\n",
       "      <td>https://socialbuzz.cdn.com/content/storage/975...</td>\n",
       "    </tr>\n",
       "    <tr>\n",
       "      <th>1</th>\n",
       "      <td>1</td>\n",
       "      <td>9f737e0a-3cdd-4d29-9d24-753f4e3be810</td>\n",
       "      <td>beb1f34e-7870-46d6-9fc7-2e12eb83ce43</td>\n",
       "      <td>photo</td>\n",
       "      <td>healthy eating</td>\n",
       "      <td>https://socialbuzz.cdn.com/content/storage/9f7...</td>\n",
       "    </tr>\n",
       "    <tr>\n",
       "      <th>2</th>\n",
       "      <td>2</td>\n",
       "      <td>230c4e4d-70c3-461d-b42c-ec09396efb3f</td>\n",
       "      <td>a5c65404-5894-4b87-82f2-d787cbee86b4</td>\n",
       "      <td>photo</td>\n",
       "      <td>healthy eating</td>\n",
       "      <td>https://socialbuzz.cdn.com/content/storage/230...</td>\n",
       "    </tr>\n",
       "    <tr>\n",
       "      <th>3</th>\n",
       "      <td>3</td>\n",
       "      <td>356fff80-da4d-4785-9f43-bc1261031dc6</td>\n",
       "      <td>9fb4ce88-fac1-406c-8544-1a899cee7aaf</td>\n",
       "      <td>photo</td>\n",
       "      <td>technology</td>\n",
       "      <td>https://socialbuzz.cdn.com/content/storage/356...</td>\n",
       "    </tr>\n",
       "    <tr>\n",
       "      <th>4</th>\n",
       "      <td>4</td>\n",
       "      <td>01ab84dd-6364-4236-abbb-3f237db77180</td>\n",
       "      <td>e206e31b-5f85-4964-b6ea-d7ee5324def1</td>\n",
       "      <td>video</td>\n",
       "      <td>food</td>\n",
       "      <td>https://socialbuzz.cdn.com/content/storage/01a...</td>\n",
       "    </tr>\n",
       "    <tr>\n",
       "      <th>5</th>\n",
       "      <td>5</td>\n",
       "      <td>cf1e8c1a-23eb-4426-9f58-002fb1b53e91</td>\n",
       "      <td>4607d7b0-3313-49b8-9f73-5b8227fc5b67</td>\n",
       "      <td>GIF</td>\n",
       "      <td>cooking</td>\n",
       "      <td>NaN</td>\n",
       "    </tr>\n",
       "    <tr>\n",
       "      <th>6</th>\n",
       "      <td>6</td>\n",
       "      <td>3f8590c7-6ab2-4973-805a-90cdec355f05</td>\n",
       "      <td>ae600af5-c1f0-4b1f-adb0-1b4c246373e4</td>\n",
       "      <td>video</td>\n",
       "      <td>dogs</td>\n",
       "      <td>https://socialbuzz.cdn.com/content/storage/3f8...</td>\n",
       "    </tr>\n",
       "    <tr>\n",
       "      <th>7</th>\n",
       "      <td>7</td>\n",
       "      <td>e5490118-90d5-4572-ab1c-1fbc87b8d9ca</td>\n",
       "      <td>583f2bde-886d-4cf3-a5c4-7cb60cd25df3</td>\n",
       "      <td>video</td>\n",
       "      <td>technology</td>\n",
       "      <td>https://socialbuzz.cdn.com/content/storage/e54...</td>\n",
       "    </tr>\n",
       "    <tr>\n",
       "      <th>8</th>\n",
       "      <td>8</td>\n",
       "      <td>0bedca96-fb76-4287-a83c-17330ed39cce</td>\n",
       "      <td>2bd9c167-e06c-47c1-a978-3403d6724606</td>\n",
       "      <td>photo</td>\n",
       "      <td>soccer</td>\n",
       "      <td>https://socialbuzz.cdn.com/content/storage/0be...</td>\n",
       "    </tr>\n",
       "  </tbody>\n",
       "</table>\n",
       "</div>"
      ],
      "text/plain": [
       "   Unnamed: 0                            Content ID  \\\n",
       "0           0  97522e57-d9ab-4bd6-97bf-c24d952602d2   \n",
       "1           1  9f737e0a-3cdd-4d29-9d24-753f4e3be810   \n",
       "2           2  230c4e4d-70c3-461d-b42c-ec09396efb3f   \n",
       "3           3  356fff80-da4d-4785-9f43-bc1261031dc6   \n",
       "4           4  01ab84dd-6364-4236-abbb-3f237db77180   \n",
       "5           5  cf1e8c1a-23eb-4426-9f58-002fb1b53e91   \n",
       "6           6  3f8590c7-6ab2-4973-805a-90cdec355f05   \n",
       "7           7  e5490118-90d5-4572-ab1c-1fbc87b8d9ca   \n",
       "8           8  0bedca96-fb76-4287-a83c-17330ed39cce   \n",
       "\n",
       "                                User ID   Type        Category  \\\n",
       "0  8d3cd87d-8a31-4935-9a4f-b319bfe05f31  photo        Studying   \n",
       "1  beb1f34e-7870-46d6-9fc7-2e12eb83ce43  photo  healthy eating   \n",
       "2  a5c65404-5894-4b87-82f2-d787cbee86b4  photo  healthy eating   \n",
       "3  9fb4ce88-fac1-406c-8544-1a899cee7aaf  photo      technology   \n",
       "4  e206e31b-5f85-4964-b6ea-d7ee5324def1  video            food   \n",
       "5  4607d7b0-3313-49b8-9f73-5b8227fc5b67    GIF         cooking   \n",
       "6  ae600af5-c1f0-4b1f-adb0-1b4c246373e4  video            dogs   \n",
       "7  583f2bde-886d-4cf3-a5c4-7cb60cd25df3  video      technology   \n",
       "8  2bd9c167-e06c-47c1-a978-3403d6724606  photo          soccer   \n",
       "\n",
       "                                                 URL  \n",
       "0  https://socialbuzz.cdn.com/content/storage/975...  \n",
       "1  https://socialbuzz.cdn.com/content/storage/9f7...  \n",
       "2  https://socialbuzz.cdn.com/content/storage/230...  \n",
       "3  https://socialbuzz.cdn.com/content/storage/356...  \n",
       "4  https://socialbuzz.cdn.com/content/storage/01a...  \n",
       "5                                                NaN  \n",
       "6  https://socialbuzz.cdn.com/content/storage/3f8...  \n",
       "7  https://socialbuzz.cdn.com/content/storage/e54...  \n",
       "8  https://socialbuzz.cdn.com/content/storage/0be...  "
      ]
     },
     "execution_count": 27,
     "metadata": {},
     "output_type": "execute_result"
    }
   ],
   "source": [
    "# loading Content data\n",
    "c_url = 'https://drive.google.com/file/d/1vnJ5Cb8EF8kYpZmgw2Iy-4n3eXMEYZ9q/view?usp=drive_link'\n",
    "c_path = 'https://drive.google.com/uc?export=download&id='+c_url.split('/')[-2]\n",
    "data_c = pd.read_csv(c_path)\n",
    "data_c.head(9)"
   ]
  },
  {
   "cell_type": "code",
   "execution_count": 28,
   "id": "b94b0929",
   "metadata": {
    "colab": {
     "base_uri": "https://localhost:8080/"
    },
    "id": "b94b0929",
    "outputId": "ec732a8f-a9dd-4a4d-feb8-b501da1b186c"
   },
   "outputs": [
    {
     "data": {
      "text/plain": [
       "(1000, 6)"
      ]
     },
     "execution_count": 28,
     "metadata": {},
     "output_type": "execute_result"
    }
   ],
   "source": [
    "data_c.shape"
   ]
  },
  {
   "cell_type": "code",
   "execution_count": 29,
   "id": "754a68e9-5ffc-479d-8c08-10dc25763187",
   "metadata": {
    "tags": []
   },
   "outputs": [
    {
     "name": "stdout",
     "output_type": "stream",
     "text": [
      "<class 'pandas.core.frame.DataFrame'>\n",
      "RangeIndex: 1000 entries, 0 to 999\n",
      "Data columns (total 6 columns):\n",
      " #   Column      Non-Null Count  Dtype \n",
      "---  ------      --------------  ----- \n",
      " 0   Unnamed: 0  1000 non-null   int64 \n",
      " 1   Content ID  1000 non-null   object\n",
      " 2   User ID     1000 non-null   object\n",
      " 3   Type        1000 non-null   object\n",
      " 4   Category    1000 non-null   object\n",
      " 5   URL         801 non-null    object\n",
      "dtypes: int64(1), object(5)\n",
      "memory usage: 47.0+ KB\n"
     ]
    }
   ],
   "source": [
    "data_c.info()"
   ]
  },
  {
   "cell_type": "code",
   "execution_count": 30,
   "id": "2acf655c-abdc-49bc-bbbe-836c6544ef2a",
   "metadata": {
    "tags": []
   },
   "outputs": [],
   "source": [
    "### Dropping unnecessary columns"
   ]
  },
  {
   "cell_type": "code",
   "execution_count": 31,
   "id": "010c5c61-ab71-4301-8c13-0fab5e0b6770",
   "metadata": {
    "tags": []
   },
   "outputs": [],
   "source": [
    "# dropping unnecessary columns by column indices\n",
    "columns_to_drop = [data_c.columns[0],'User ID','URL'] # Dropping unnamed column by index and named column by name\n",
    "data_c.drop(columns=columns_to_drop, inplace=True)  # Dropping changes directly to the DataFrame data_c"
   ]
  },
  {
   "cell_type": "code",
   "execution_count": 32,
   "id": "db9ce148-b1a8-4ec3-a95a-c4343619bec7",
   "metadata": {
    "tags": []
   },
   "outputs": [
    {
     "data": {
      "text/plain": [
       "(1000, 3)"
      ]
     },
     "execution_count": 32,
     "metadata": {},
     "output_type": "execute_result"
    }
   ],
   "source": [
    "data_c.shape # Rows and column"
   ]
  },
  {
   "cell_type": "code",
   "execution_count": 33,
   "id": "9aaa859b-a6bf-4468-be13-2e39c93e383b",
   "metadata": {
    "tags": []
   },
   "outputs": [],
   "source": [
    "# Renaming column name\n",
    "data_c.rename(columns={'Type': 'Content Type'}, inplace=True)"
   ]
  },
  {
   "cell_type": "code",
   "execution_count": 34,
   "id": "cd5ecccb-309a-4883-87eb-5e3c2e85e059",
   "metadata": {
    "tags": []
   },
   "outputs": [
    {
     "data": {
      "text/html": [
       "<div>\n",
       "<style scoped>\n",
       "    .dataframe tbody tr th:only-of-type {\n",
       "        vertical-align: middle;\n",
       "    }\n",
       "\n",
       "    .dataframe tbody tr th {\n",
       "        vertical-align: top;\n",
       "    }\n",
       "\n",
       "    .dataframe thead th {\n",
       "        text-align: right;\n",
       "    }\n",
       "</style>\n",
       "<table border=\"1\" class=\"dataframe\">\n",
       "  <thead>\n",
       "    <tr style=\"text-align: right;\">\n",
       "      <th></th>\n",
       "      <th>Content ID</th>\n",
       "      <th>Content Type</th>\n",
       "      <th>Category</th>\n",
       "    </tr>\n",
       "  </thead>\n",
       "  <tbody>\n",
       "    <tr>\n",
       "      <th>0</th>\n",
       "      <td>97522e57-d9ab-4bd6-97bf-c24d952602d2</td>\n",
       "      <td>photo</td>\n",
       "      <td>Studying</td>\n",
       "    </tr>\n",
       "    <tr>\n",
       "      <th>1</th>\n",
       "      <td>9f737e0a-3cdd-4d29-9d24-753f4e3be810</td>\n",
       "      <td>photo</td>\n",
       "      <td>healthy eating</td>\n",
       "    </tr>\n",
       "    <tr>\n",
       "      <th>2</th>\n",
       "      <td>230c4e4d-70c3-461d-b42c-ec09396efb3f</td>\n",
       "      <td>photo</td>\n",
       "      <td>healthy eating</td>\n",
       "    </tr>\n",
       "  </tbody>\n",
       "</table>\n",
       "</div>"
      ],
      "text/plain": [
       "                             Content ID Content Type        Category\n",
       "0  97522e57-d9ab-4bd6-97bf-c24d952602d2        photo        Studying\n",
       "1  9f737e0a-3cdd-4d29-9d24-753f4e3be810        photo  healthy eating\n",
       "2  230c4e4d-70c3-461d-b42c-ec09396efb3f        photo  healthy eating"
      ]
     },
     "execution_count": 34,
     "metadata": {},
     "output_type": "execute_result"
    }
   ],
   "source": [
    "data_c.head(3)"
   ]
  },
  {
   "cell_type": "markdown",
   "id": "b563cc10-269e-4336-adbd-6a8181b00c10",
   "metadata": {
    "tags": []
   },
   "source": [
    "## Identifying null values"
   ]
  },
  {
   "cell_type": "code",
   "execution_count": 35,
   "id": "6e2020e7-effa-4874-8e05-1b9bfcc90ca8",
   "metadata": {
    "tags": []
   },
   "outputs": [
    {
     "data": {
      "text/plain": [
       "Content ID      False\n",
       "Content Type    False\n",
       "Category        False\n",
       "dtype: bool"
      ]
     },
     "execution_count": 35,
     "metadata": {},
     "output_type": "execute_result"
    }
   ],
   "source": [
    "na_values = data_c.isnull().any() # Checking na values\n",
    "na_values"
   ]
  },
  {
   "cell_type": "code",
   "execution_count": 36,
   "id": "1a4aa268-d30a-4e94-b7a6-0f21876f911b",
   "metadata": {
    "tags": []
   },
   "outputs": [
    {
     "data": {
      "text/plain": [
       "0"
      ]
     },
     "execution_count": 36,
     "metadata": {},
     "output_type": "execute_result"
    }
   ],
   "source": [
    "# Total number of missing values columns\n",
    "na_values.sum().sum()"
   ]
  },
  {
   "cell_type": "code",
   "execution_count": 37,
   "id": "97f38f7b-64e0-45a4-9e49-69247873d05f",
   "metadata": {
    "tags": []
   },
   "outputs": [
    {
     "data": {
      "text/plain": [
       "<Axes: >"
      ]
     },
     "execution_count": 37,
     "metadata": {},
     "output_type": "execute_result"
    },
    {
     "data": {
      "image/png": "[encoded data removed]",
      "text/plain": [
       "<Figure size 500x500 with 2 Axes>"
      ]
     },
     "metadata": {},
     "output_type": "display_data"
    }
   ],
   "source": [
    "# plot after cleaning null values\n",
    "plt.figure(figsize=(5,5))\n",
    "sns.set(font_scale = 0.8)\n",
    "sns.heatmap(data_c.isnull())"
   ]
  },
  {
   "cell_type": "code",
   "execution_count": 38,
   "id": "c582740f-81b8-494e-92d9-2332f4d0a501",
   "metadata": {
    "tags": []
   },
   "outputs": [],
   "source": [
    "### Displaying Cleaned Data: Contents"
   ]
  },
  {
   "cell_type": "code",
   "execution_count": 39,
   "id": "02f527fd-e036-4651-8db5-de1c002c2c1d",
   "metadata": {
    "tags": []
   },
   "outputs": [
    {
     "data": {
      "text/html": [
       "<div>\n",
       "<style scoped>\n",
       "    .dataframe tbody tr th:only-of-type {\n",
       "        vertical-align: middle;\n",
       "    }\n",
       "\n",
       "    .dataframe tbody tr th {\n",
       "        vertical-align: top;\n",
       "    }\n",
       "\n",
       "    .dataframe thead th {\n",
       "        text-align: right;\n",
       "    }\n",
       "</style>\n",
       "<table border=\"1\" class=\"dataframe\">\n",
       "  <thead>\n",
       "    <tr style=\"text-align: right;\">\n",
       "      <th></th>\n",
       "      <th>Content ID</th>\n",
       "      <th>Content Type</th>\n",
       "      <th>Category</th>\n",
       "    </tr>\n",
       "  </thead>\n",
       "  <tbody>\n",
       "    <tr>\n",
       "      <th>0</th>\n",
       "      <td>97522e57-d9ab-4bd6-97bf-c24d952602d2</td>\n",
       "      <td>photo</td>\n",
       "      <td>Studying</td>\n",
       "    </tr>\n",
       "    <tr>\n",
       "      <th>1</th>\n",
       "      <td>9f737e0a-3cdd-4d29-9d24-753f4e3be810</td>\n",
       "      <td>photo</td>\n",
       "      <td>healthy eating</td>\n",
       "    </tr>\n",
       "    <tr>\n",
       "      <th>2</th>\n",
       "      <td>230c4e4d-70c3-461d-b42c-ec09396efb3f</td>\n",
       "      <td>photo</td>\n",
       "      <td>healthy eating</td>\n",
       "    </tr>\n",
       "    <tr>\n",
       "      <th>3</th>\n",
       "      <td>356fff80-da4d-4785-9f43-bc1261031dc6</td>\n",
       "      <td>photo</td>\n",
       "      <td>technology</td>\n",
       "    </tr>\n",
       "    <tr>\n",
       "      <th>4</th>\n",
       "      <td>01ab84dd-6364-4236-abbb-3f237db77180</td>\n",
       "      <td>video</td>\n",
       "      <td>food</td>\n",
       "    </tr>\n",
       "    <tr>\n",
       "      <th>...</th>\n",
       "      <td>...</td>\n",
       "      <td>...</td>\n",
       "      <td>...</td>\n",
       "    </tr>\n",
       "    <tr>\n",
       "      <th>995</th>\n",
       "      <td>b4cef9ef-627b-41d7-a051-5961b0204ebb</td>\n",
       "      <td>video</td>\n",
       "      <td>public speaking</td>\n",
       "    </tr>\n",
       "    <tr>\n",
       "      <th>996</th>\n",
       "      <td>7a79f4e4-3b7d-44dc-bdef-bc990740252c</td>\n",
       "      <td>GIF</td>\n",
       "      <td>technology</td>\n",
       "    </tr>\n",
       "    <tr>\n",
       "      <th>997</th>\n",
       "      <td>435007a5-6261-4d8b-b0a4-55fdc189754b</td>\n",
       "      <td>audio</td>\n",
       "      <td>veganism</td>\n",
       "    </tr>\n",
       "    <tr>\n",
       "      <th>998</th>\n",
       "      <td>4e4c9690-c013-4ee7-9e66-943d8cbd27b7</td>\n",
       "      <td>GIF</td>\n",
       "      <td>culture</td>\n",
       "    </tr>\n",
       "    <tr>\n",
       "      <th>999</th>\n",
       "      <td>75d6b589-7fae-4a6d-b0d0-752845150e56</td>\n",
       "      <td>audio</td>\n",
       "      <td>technology</td>\n",
       "    </tr>\n",
       "  </tbody>\n",
       "</table>\n",
       "<p>1000 rows × 3 columns</p>\n",
       "</div>"
      ],
      "text/plain": [
       "                               Content ID Content Type         Category\n",
       "0    97522e57-d9ab-4bd6-97bf-c24d952602d2        photo         Studying\n",
       "1    9f737e0a-3cdd-4d29-9d24-753f4e3be810        photo   healthy eating\n",
       "2    230c4e4d-70c3-461d-b42c-ec09396efb3f        photo   healthy eating\n",
       "3    356fff80-da4d-4785-9f43-bc1261031dc6        photo       technology\n",
       "4    01ab84dd-6364-4236-abbb-3f237db77180        video             food\n",
       "..                                    ...          ...              ...\n",
       "995  b4cef9ef-627b-41d7-a051-5961b0204ebb        video  public speaking\n",
       "996  7a79f4e4-3b7d-44dc-bdef-bc990740252c          GIF       technology\n",
       "997  435007a5-6261-4d8b-b0a4-55fdc189754b        audio         veganism\n",
       "998  4e4c9690-c013-4ee7-9e66-943d8cbd27b7          GIF          culture\n",
       "999  75d6b589-7fae-4a6d-b0d0-752845150e56        audio       technology\n",
       "\n",
       "[1000 rows x 3 columns]"
      ]
     },
     "execution_count": 39,
     "metadata": {},
     "output_type": "execute_result"
    }
   ],
   "source": [
    "data_c"
   ]
  },
  {
   "cell_type": "code",
   "execution_count": 40,
   "id": "9b95c77f-51a1-40d8-a464-22a6c462741c",
   "metadata": {
    "tags": []
   },
   "outputs": [
    {
     "data": {
      "text/plain": [
       "0             Studying\n",
       "1       healthy eating\n",
       "2       healthy eating\n",
       "3           technology\n",
       "4                 food\n",
       "            ...       \n",
       "995    public speaking\n",
       "996         technology\n",
       "997           veganism\n",
       "998            culture\n",
       "999         technology\n",
       "Name: Category, Length: 1000, dtype: object"
      ]
     },
     "execution_count": 40,
     "metadata": {},
     "output_type": "execute_result"
    }
   ],
   "source": [
    "data_c['Category']"
   ]
  },
  {
   "cell_type": "code",
   "execution_count": 41,
   "id": "5888acb6-c766-400c-8663-d139f4e15f79",
   "metadata": {
    "tags": []
   },
   "outputs": [],
   "source": [
    "# Standardizing the column\n",
    "data_c['Category'] = data_c['Category'].str.lower() # Step 1: Convert to lowercase\n",
    "data_c['Category']  = data_c['Category'].str.strip()  # Step 2: Remove leading/trailing whitespace\n",
    "\n",
    "# Optionally, remove punctuation and special characters if needed:\n",
    "data_c['Category'] = data_c['Category'].str.replace('[^\\w\\s]', '', regex=True)\n",
    "\n",
    "# Step 4: Split text into words (assuming space-separated words) for eg.[healthy, eating]\n",
    "# data_c['Category'] = data_c['Category'].str.split()\n",
    "\n",
    "# Example: Count occurrences of a word (e.g., 'apple')\n",
    "#word_to_count = data_c['Category'] \n",
    "#df['Count'] = data_c['Category'] .apply(lambda words: words.count(word_to_count))\n",
    "\n",
    "# Print the DataFrame with counts\n",
    "#print(df)"
   ]
  },
  {
   "cell_type": "code",
   "execution_count": 42,
   "id": "cd19ac54-c748-40bd-8a55-631ca55e9c95",
   "metadata": {
    "tags": []
   },
   "outputs": [],
   "source": [
    "# Saving clean data in csv format\n",
    "file_path = 'C:/Users/Atif/Documents/Atif/3 Internships/Accenture Data Analysis internship/Content_cleaned_data.csv'\n",
    "data_c.to_csv(file_path, index=False)"
   ]
  },
  {
   "cell_type": "markdown",
   "id": "c2efcb15-00a1-4a38-94f6-41269a225501",
   "metadata": {},
   "source": [
    "## Category Count and sorted in descending"
   ]
  },
  {
   "cell_type": "code",
   "execution_count": 43,
   "id": "2b3bf090-b299-4600-9590-cfe25c0af87b",
   "metadata": {},
   "outputs": [
    {
     "data": {
      "text/html": [
       "<div>\n",
       "<style scoped>\n",
       "    .dataframe tbody tr th:only-of-type {\n",
       "        vertical-align: middle;\n",
       "    }\n",
       "\n",
       "    .dataframe tbody tr th {\n",
       "        vertical-align: top;\n",
       "    }\n",
       "\n",
       "    .dataframe thead th {\n",
       "        text-align: right;\n",
       "    }\n",
       "</style>\n",
       "<table border=\"1\" class=\"dataframe\">\n",
       "  <thead>\n",
       "    <tr style=\"text-align: right;\">\n",
       "      <th></th>\n",
       "      <th>Count</th>\n",
       "    </tr>\n",
       "    <tr>\n",
       "      <th>CategoryType</th>\n",
       "      <th></th>\n",
       "    </tr>\n",
       "  </thead>\n",
       "  <tbody>\n",
       "    <tr>\n",
       "      <th>technology</th>\n",
       "      <td>73</td>\n",
       "    </tr>\n",
       "    <tr>\n",
       "      <th>animals</th>\n",
       "      <td>72</td>\n",
       "    </tr>\n",
       "    <tr>\n",
       "      <th>travel</th>\n",
       "      <td>69</td>\n",
       "    </tr>\n",
       "    <tr>\n",
       "      <th>science</th>\n",
       "      <td>68</td>\n",
       "    </tr>\n",
       "    <tr>\n",
       "      <th>culture</th>\n",
       "      <td>67</td>\n",
       "    </tr>\n",
       "    <tr>\n",
       "      <th>fitness</th>\n",
       "      <td>66</td>\n",
       "    </tr>\n",
       "    <tr>\n",
       "      <th>food</th>\n",
       "      <td>64</td>\n",
       "    </tr>\n",
       "    <tr>\n",
       "      <th>soccer</th>\n",
       "      <td>64</td>\n",
       "    </tr>\n",
       "    <tr>\n",
       "      <th>eating</th>\n",
       "      <td>62</td>\n",
       "    </tr>\n",
       "    <tr>\n",
       "      <th>healthy</th>\n",
       "      <td>62</td>\n",
       "    </tr>\n",
       "    <tr>\n",
       "      <th>cooking</th>\n",
       "      <td>61</td>\n",
       "    </tr>\n",
       "    <tr>\n",
       "      <th>education</th>\n",
       "      <td>59</td>\n",
       "    </tr>\n",
       "    <tr>\n",
       "      <th>tennis</th>\n",
       "      <td>59</td>\n",
       "    </tr>\n",
       "    <tr>\n",
       "      <th>studying</th>\n",
       "      <td>58</td>\n",
       "    </tr>\n",
       "    <tr>\n",
       "      <th>dogs</th>\n",
       "      <td>58</td>\n",
       "    </tr>\n",
       "    <tr>\n",
       "      <th>public</th>\n",
       "      <td>50</td>\n",
       "    </tr>\n",
       "    <tr>\n",
       "      <th>veganism</th>\n",
       "      <td>50</td>\n",
       "    </tr>\n",
       "    <tr>\n",
       "      <th>speaking</th>\n",
       "      <td>50</td>\n",
       "    </tr>\n",
       "  </tbody>\n",
       "</table>\n",
       "</div>"
      ],
      "text/plain": [
       "              Count\n",
       "CategoryType       \n",
       "technology       73\n",
       "animals          72\n",
       "travel           69\n",
       "science          68\n",
       "culture          67\n",
       "fitness          66\n",
       "food             64\n",
       "soccer           64\n",
       "eating           62\n",
       "healthy          62\n",
       "cooking          61\n",
       "education        59\n",
       "tennis           59\n",
       "studying         58\n",
       "dogs             58\n",
       "public           50\n",
       "veganism         50\n",
       "speaking         50"
      ]
     },
     "execution_count": 43,
     "metadata": {},
     "output_type": "execute_result"
    }
   ],
   "source": [
    "import pandas as pd\n",
    "from collections import Counter\n",
    "\n",
    "data = data_c['Category']\n",
    "df = pd.DataFrame(data)\n",
    "\n",
    "# Step 1: Flatten the words in the 'Text' column\n",
    "all_words = ' '.join(df['Category'])\n",
    "\n",
    "# Step 2: Split the flattened text into individual words\n",
    "words_list = all_words.split()\n",
    "\n",
    "# Step 3: Count the occurrences of each word\n",
    "word_counts = Counter(words_list)\n",
    "\n",
    "# Step 4: Create a DataFrame with word counts and their words\n",
    "word_count_df = pd.DataFrame.from_dict(word_counts, orient='index', columns=['Count'])\n",
    "word_count_df.index.name = 'CategoryType'\n",
    "\n",
    "# Sort the DataFrame by the 'Score' column in descending order\n",
    "df_sorted = word_count_df.sort_values(by='Count', ascending=False)\n",
    "\n",
    "# Print the DataFrame with word counts\n",
    "df_sorted"
   ]
  },
  {
   "cell_type": "code",
   "execution_count": 44,
   "id": "3ffc855b-073e-439f-8055-37ecdffbcfa1",
   "metadata": {
    "tags": []
   },
   "outputs": [],
   "source": [
    "# Saving clean data in csv format\n",
    "file_path = 'C:/Users/Atif/Documents/Atif/3 Internships/Accenture Data Analysis internship/CategoryType_wise_count.csv'\n",
    "df_sorted.to_csv(file_path, index=True) # index=True to include row index in csv file"
   ]
  },
  {
   "cell_type": "code",
   "execution_count": 45,
   "id": "5095b83a-c10f-4b7b-a3fc-e90299ff63f8",
   "metadata": {
    "tags": []
   },
   "outputs": [
    {
     "data": {
      "text/html": [
       "<div>\n",
       "<style scoped>\n",
       "    .dataframe tbody tr th:only-of-type {\n",
       "        vertical-align: middle;\n",
       "    }\n",
       "\n",
       "    .dataframe tbody tr th {\n",
       "        vertical-align: top;\n",
       "    }\n",
       "\n",
       "    .dataframe thead th {\n",
       "        text-align: right;\n",
       "    }\n",
       "</style>\n",
       "<table border=\"1\" class=\"dataframe\">\n",
       "  <thead>\n",
       "    <tr style=\"text-align: right;\">\n",
       "      <th></th>\n",
       "      <th>Content ID</th>\n",
       "      <th>Reaction Type</th>\n",
       "      <th>Datetime</th>\n",
       "    </tr>\n",
       "  </thead>\n",
       "  <tbody>\n",
       "    <tr>\n",
       "      <th>1</th>\n",
       "      <td>97522e57-d9ab-4bd6-97bf-c24d952602d2</td>\n",
       "      <td>disgust</td>\n",
       "      <td>2020-11-07 09:43:50</td>\n",
       "    </tr>\n",
       "    <tr>\n",
       "      <th>2</th>\n",
       "      <td>97522e57-d9ab-4bd6-97bf-c24d952602d2</td>\n",
       "      <td>dislike</td>\n",
       "      <td>2021-06-17 12:22:51</td>\n",
       "    </tr>\n",
       "    <tr>\n",
       "      <th>3</th>\n",
       "      <td>97522e57-d9ab-4bd6-97bf-c24d952602d2</td>\n",
       "      <td>scared</td>\n",
       "      <td>2021-04-18 05:13:58</td>\n",
       "    </tr>\n",
       "    <tr>\n",
       "      <th>4</th>\n",
       "      <td>97522e57-d9ab-4bd6-97bf-c24d952602d2</td>\n",
       "      <td>disgust</td>\n",
       "      <td>2021-01-06 19:13:01</td>\n",
       "    </tr>\n",
       "    <tr>\n",
       "      <th>5</th>\n",
       "      <td>97522e57-d9ab-4bd6-97bf-c24d952602d2</td>\n",
       "      <td>interested</td>\n",
       "      <td>2020-08-23 12:25:58</td>\n",
       "    </tr>\n",
       "    <tr>\n",
       "      <th>...</th>\n",
       "      <td>...</td>\n",
       "      <td>...</td>\n",
       "      <td>...</td>\n",
       "    </tr>\n",
       "    <tr>\n",
       "      <th>25548</th>\n",
       "      <td>75d6b589-7fae-4a6d-b0d0-752845150e56</td>\n",
       "      <td>dislike</td>\n",
       "      <td>2020-06-27 09:46:48</td>\n",
       "    </tr>\n",
       "    <tr>\n",
       "      <th>25549</th>\n",
       "      <td>75d6b589-7fae-4a6d-b0d0-752845150e56</td>\n",
       "      <td>intrigued</td>\n",
       "      <td>2021-02-16 17:17:02</td>\n",
       "    </tr>\n",
       "    <tr>\n",
       "      <th>25550</th>\n",
       "      <td>75d6b589-7fae-4a6d-b0d0-752845150e56</td>\n",
       "      <td>interested</td>\n",
       "      <td>2020-09-12 03:54:58</td>\n",
       "    </tr>\n",
       "    <tr>\n",
       "      <th>25551</th>\n",
       "      <td>75d6b589-7fae-4a6d-b0d0-752845150e56</td>\n",
       "      <td>worried</td>\n",
       "      <td>2020-11-04 20:08:31</td>\n",
       "    </tr>\n",
       "    <tr>\n",
       "      <th>25552</th>\n",
       "      <td>75d6b589-7fae-4a6d-b0d0-752845150e56</td>\n",
       "      <td>cherish</td>\n",
       "      <td>2021-01-04 04:55:11</td>\n",
       "    </tr>\n",
       "  </tbody>\n",
       "</table>\n",
       "<p>24573 rows × 3 columns</p>\n",
       "</div>"
      ],
      "text/plain": [
       "                                 Content ID Reaction Type             Datetime\n",
       "1      97522e57-d9ab-4bd6-97bf-c24d952602d2       disgust  2020-11-07 09:43:50\n",
       "2      97522e57-d9ab-4bd6-97bf-c24d952602d2       dislike  2021-06-17 12:22:51\n",
       "3      97522e57-d9ab-4bd6-97bf-c24d952602d2        scared  2021-04-18 05:13:58\n",
       "4      97522e57-d9ab-4bd6-97bf-c24d952602d2       disgust  2021-01-06 19:13:01\n",
       "5      97522e57-d9ab-4bd6-97bf-c24d952602d2    interested  2020-08-23 12:25:58\n",
       "...                                     ...           ...                  ...\n",
       "25548  75d6b589-7fae-4a6d-b0d0-752845150e56       dislike  2020-06-27 09:46:48\n",
       "25549  75d6b589-7fae-4a6d-b0d0-752845150e56     intrigued  2021-02-16 17:17:02\n",
       "25550  75d6b589-7fae-4a6d-b0d0-752845150e56    interested  2020-09-12 03:54:58\n",
       "25551  75d6b589-7fae-4a6d-b0d0-752845150e56       worried  2020-11-04 20:08:31\n",
       "25552  75d6b589-7fae-4a6d-b0d0-752845150e56       cherish  2021-01-04 04:55:11\n",
       "\n",
       "[24573 rows x 3 columns]"
      ]
     },
     "execution_count": 45,
     "metadata": {},
     "output_type": "execute_result"
    }
   ],
   "source": [
    "data_r"
   ]
  },
  {
   "cell_type": "code",
   "execution_count": 46,
   "id": "ca58f90b-6d7c-49a3-9ca8-c6b140c9ce41",
   "metadata": {
    "tags": []
   },
   "outputs": [
    {
     "name": "stdout",
     "output_type": "stream",
     "text": [
      "(24573, 3) (1000, 3) (16, 3) (24573, 7)\n"
     ]
    }
   ],
   "source": [
    "import pandas as pd\n",
    "\n",
    "# Merge the DataFrames based on the 'Content ID' and Type column\n",
    "merged_df = data_r.merge(data_c, on='Content ID', how='inner').merge(data_rt, on='Reaction Type', how='inner')\n",
    "\n",
    "print(data_r.shape, data_c.shape, data_rt.shape, merged_df.shape)"
   ]
  },
  {
   "cell_type": "code",
   "execution_count": 47,
   "id": "542dce02-ad9a-4074-966d-583f6f609334",
   "metadata": {
    "tags": []
   },
   "outputs": [
    {
     "data": {
      "text/html": [
       "<div>\n",
       "<style scoped>\n",
       "    .dataframe tbody tr th:only-of-type {\n",
       "        vertical-align: middle;\n",
       "    }\n",
       "\n",
       "    .dataframe tbody tr th {\n",
       "        vertical-align: top;\n",
       "    }\n",
       "\n",
       "    .dataframe thead th {\n",
       "        text-align: right;\n",
       "    }\n",
       "</style>\n",
       "<table border=\"1\" class=\"dataframe\">\n",
       "  <thead>\n",
       "    <tr style=\"text-align: right;\">\n",
       "      <th></th>\n",
       "      <th>Content ID</th>\n",
       "      <th>Reaction Type</th>\n",
       "      <th>Datetime</th>\n",
       "      <th>Content Type</th>\n",
       "      <th>Category</th>\n",
       "      <th>Sentiment</th>\n",
       "      <th>Score</th>\n",
       "    </tr>\n",
       "  </thead>\n",
       "  <tbody>\n",
       "    <tr>\n",
       "      <th>0</th>\n",
       "      <td>97522e57-d9ab-4bd6-97bf-c24d952602d2</td>\n",
       "      <td>disgust</td>\n",
       "      <td>2020-11-07 09:43:50</td>\n",
       "      <td>photo</td>\n",
       "      <td>studying</td>\n",
       "      <td>negative</td>\n",
       "      <td>0</td>\n",
       "    </tr>\n",
       "    <tr>\n",
       "      <th>1</th>\n",
       "      <td>97522e57-d9ab-4bd6-97bf-c24d952602d2</td>\n",
       "      <td>disgust</td>\n",
       "      <td>2021-01-06 19:13:01</td>\n",
       "      <td>photo</td>\n",
       "      <td>studying</td>\n",
       "      <td>negative</td>\n",
       "      <td>0</td>\n",
       "    </tr>\n",
       "    <tr>\n",
       "      <th>2</th>\n",
       "      <td>97522e57-d9ab-4bd6-97bf-c24d952602d2</td>\n",
       "      <td>disgust</td>\n",
       "      <td>2021-04-09 02:46:20</td>\n",
       "      <td>photo</td>\n",
       "      <td>studying</td>\n",
       "      <td>negative</td>\n",
       "      <td>0</td>\n",
       "    </tr>\n",
       "  </tbody>\n",
       "</table>\n",
       "</div>"
      ],
      "text/plain": [
       "                             Content ID Reaction Type             Datetime  \\\n",
       "0  97522e57-d9ab-4bd6-97bf-c24d952602d2       disgust  2020-11-07 09:43:50   \n",
       "1  97522e57-d9ab-4bd6-97bf-c24d952602d2       disgust  2021-01-06 19:13:01   \n",
       "2  97522e57-d9ab-4bd6-97bf-c24d952602d2       disgust  2021-04-09 02:46:20   \n",
       "\n",
       "  Content Type  Category Sentiment  Score  \n",
       "0        photo  studying  negative      0  \n",
       "1        photo  studying  negative      0  \n",
       "2        photo  studying  negative      0  "
      ]
     },
     "execution_count": 47,
     "metadata": {},
     "output_type": "execute_result"
    }
   ],
   "source": [
    "# Print the merged DataFrame\n",
    "merged_df.head(3)"
   ]
  },
  {
   "cell_type": "code",
   "execution_count": 48,
   "id": "6fdab3e6-d7ed-48c4-b5c7-2593943293f7",
   "metadata": {
    "tags": []
   },
   "outputs": [
    {
     "data": {
      "text/plain": [
       "Content ID       0\n",
       "Reaction Type    0\n",
       "Datetime         0\n",
       "Content Type     0\n",
       "Category         0\n",
       "Sentiment        0\n",
       "Score            0\n",
       "dtype: int64"
      ]
     },
     "execution_count": 48,
     "metadata": {},
     "output_type": "execute_result"
    }
   ],
   "source": [
    "merged_df.isnull().sum()"
   ]
  },
  {
   "cell_type": "code",
   "execution_count": 49,
   "id": "782b2ccf-7bc4-469c-b3a7-8f9a05491c33",
   "metadata": {
    "tags": []
   },
   "outputs": [],
   "source": [
    "# Saving cleaned merged dataset in csv format\n",
    "file_path_mdf = 'C:/Users/Atif/Documents/Atif/3 Internships/Accenture Data Analysis internship/merged_df.csv'\n",
    "merged_df.to_csv(file_path_mdf, index=True) # index=True to include row index in csv file"
   ]
  },
  {
   "cell_type": "markdown",
   "id": "56dc6f24-ff15-4633-a3ec-0232b86dfb07",
   "metadata": {
    "tags": []
   },
   "source": [
    "# Result"
   ]
  },
  {
   "cell_type": "code",
   "execution_count": 50,
   "id": "d19f3cfc-b22b-45e3-a7f8-0ea9c0b9e717",
   "metadata": {
    "tags": []
   },
   "outputs": [
    {
     "data": {
      "text/html": [
       "<div>\n",
       "<style scoped>\n",
       "    .dataframe tbody tr th:only-of-type {\n",
       "        vertical-align: middle;\n",
       "    }\n",
       "\n",
       "    .dataframe tbody tr th {\n",
       "        vertical-align: top;\n",
       "    }\n",
       "\n",
       "    .dataframe thead th {\n",
       "        text-align: right;\n",
       "    }\n",
       "</style>\n",
       "<table border=\"1\" class=\"dataframe\">\n",
       "  <thead>\n",
       "    <tr style=\"text-align: right;\">\n",
       "      <th></th>\n",
       "      <th>Category</th>\n",
       "      <th>Score</th>\n",
       "    </tr>\n",
       "  </thead>\n",
       "  <tbody>\n",
       "    <tr>\n",
       "      <th>0</th>\n",
       "      <td>animals</td>\n",
       "      <td>74965</td>\n",
       "    </tr>\n",
       "    <tr>\n",
       "      <th>9</th>\n",
       "      <td>science</td>\n",
       "      <td>71168</td>\n",
       "    </tr>\n",
       "    <tr>\n",
       "      <th>7</th>\n",
       "      <td>healthy eating</td>\n",
       "      <td>69339</td>\n",
       "    </tr>\n",
       "    <tr>\n",
       "      <th>12</th>\n",
       "      <td>technology</td>\n",
       "      <td>68738</td>\n",
       "    </tr>\n",
       "    <tr>\n",
       "      <th>6</th>\n",
       "      <td>food</td>\n",
       "      <td>66676</td>\n",
       "    </tr>\n",
       "    <tr>\n",
       "      <th>2</th>\n",
       "      <td>culture</td>\n",
       "      <td>66579</td>\n",
       "    </tr>\n",
       "    <tr>\n",
       "      <th>14</th>\n",
       "      <td>travel</td>\n",
       "      <td>64880</td>\n",
       "    </tr>\n",
       "    <tr>\n",
       "      <th>1</th>\n",
       "      <td>cooking</td>\n",
       "      <td>64756</td>\n",
       "    </tr>\n",
       "    <tr>\n",
       "      <th>10</th>\n",
       "      <td>soccer</td>\n",
       "      <td>57783</td>\n",
       "    </tr>\n",
       "    <tr>\n",
       "      <th>4</th>\n",
       "      <td>education</td>\n",
       "      <td>57436</td>\n",
       "    </tr>\n",
       "    <tr>\n",
       "      <th>5</th>\n",
       "      <td>fitness</td>\n",
       "      <td>55323</td>\n",
       "    </tr>\n",
       "    <tr>\n",
       "      <th>11</th>\n",
       "      <td>studying</td>\n",
       "      <td>54269</td>\n",
       "    </tr>\n",
       "    <tr>\n",
       "      <th>3</th>\n",
       "      <td>dogs</td>\n",
       "      <td>52511</td>\n",
       "    </tr>\n",
       "    <tr>\n",
       "      <th>13</th>\n",
       "      <td>tennis</td>\n",
       "      <td>50339</td>\n",
       "    </tr>\n",
       "    <tr>\n",
       "      <th>15</th>\n",
       "      <td>veganism</td>\n",
       "      <td>49619</td>\n",
       "    </tr>\n",
       "    <tr>\n",
       "      <th>8</th>\n",
       "      <td>public speaking</td>\n",
       "      <td>49264</td>\n",
       "    </tr>\n",
       "  </tbody>\n",
       "</table>\n",
       "</div>"
      ],
      "text/plain": [
       "           Category  Score\n",
       "0           animals  74965\n",
       "9           science  71168\n",
       "7    healthy eating  69339\n",
       "12       technology  68738\n",
       "6              food  66676\n",
       "2           culture  66579\n",
       "14           travel  64880\n",
       "1           cooking  64756\n",
       "10           soccer  57783\n",
       "4         education  57436\n",
       "5           fitness  55323\n",
       "11         studying  54269\n",
       "3              dogs  52511\n",
       "13           tennis  50339\n",
       "15         veganism  49619\n",
       "8   public speaking  49264"
      ]
     },
     "execution_count": 50,
     "metadata": {},
     "output_type": "execute_result"
    }
   ],
   "source": [
    "# Sum up the 'Score' column based on 'Category'\n",
    "result = merged_df.groupby('Category')['Score'].sum().reset_index()\n",
    "\n",
    "# Sort the DataFrame by the 'Score' column in descending order\n",
    "result_sorted = result.sort_values(by='Score', ascending=False)\n",
    "\n",
    "# Print the result\n",
    "result_sorted"
   ]
  },
  {
   "cell_type": "code",
   "execution_count": 51,
   "id": "fcce107c-1e72-4446-b286-d3dec2b3c369",
   "metadata": {
    "tags": []
   },
   "outputs": [],
   "source": [
    "# Insert serial numbers as a new column\n",
    "result_sorted['Ranking'] = range(1, len(result_sorted) + 1)"
   ]
  },
  {
   "cell_type": "code",
   "execution_count": 52,
   "id": "dfc785f3-cb6d-4ee2-99b7-1b21ce045561",
   "metadata": {
    "tags": []
   },
   "outputs": [],
   "source": [
    "# Reorder the columns, placing 'Ranking' first\n",
    "result_sorted = result_sorted[['Ranking'] + [col for col in result_sorted.columns if col != 'Ranking']]"
   ]
  },
  {
   "cell_type": "code",
   "execution_count": 53,
   "id": "00ceba49-c7af-4d55-abdf-f529ba724e0b",
   "metadata": {
    "tags": []
   },
   "outputs": [
    {
     "data": {
      "text/html": [
       "<div>\n",
       "<style scoped>\n",
       "    .dataframe tbody tr th:only-of-type {\n",
       "        vertical-align: middle;\n",
       "    }\n",
       "\n",
       "    .dataframe tbody tr th {\n",
       "        vertical-align: top;\n",
       "    }\n",
       "\n",
       "    .dataframe thead th {\n",
       "        text-align: right;\n",
       "    }\n",
       "</style>\n",
       "<table border=\"1\" class=\"dataframe\">\n",
       "  <thead>\n",
       "    <tr style=\"text-align: right;\">\n",
       "      <th></th>\n",
       "      <th>Ranking</th>\n",
       "      <th>Category</th>\n",
       "      <th>Score</th>\n",
       "    </tr>\n",
       "  </thead>\n",
       "  <tbody>\n",
       "    <tr>\n",
       "      <th>0</th>\n",
       "      <td>1</td>\n",
       "      <td>animals</td>\n",
       "      <td>74965</td>\n",
       "    </tr>\n",
       "    <tr>\n",
       "      <th>1</th>\n",
       "      <td>2</td>\n",
       "      <td>science</td>\n",
       "      <td>71168</td>\n",
       "    </tr>\n",
       "    <tr>\n",
       "      <th>2</th>\n",
       "      <td>3</td>\n",
       "      <td>healthy eating</td>\n",
       "      <td>69339</td>\n",
       "    </tr>\n",
       "    <tr>\n",
       "      <th>3</th>\n",
       "      <td>4</td>\n",
       "      <td>technology</td>\n",
       "      <td>68738</td>\n",
       "    </tr>\n",
       "    <tr>\n",
       "      <th>4</th>\n",
       "      <td>5</td>\n",
       "      <td>food</td>\n",
       "      <td>66676</td>\n",
       "    </tr>\n",
       "    <tr>\n",
       "      <th>5</th>\n",
       "      <td>6</td>\n",
       "      <td>culture</td>\n",
       "      <td>66579</td>\n",
       "    </tr>\n",
       "    <tr>\n",
       "      <th>6</th>\n",
       "      <td>7</td>\n",
       "      <td>travel</td>\n",
       "      <td>64880</td>\n",
       "    </tr>\n",
       "    <tr>\n",
       "      <th>7</th>\n",
       "      <td>8</td>\n",
       "      <td>cooking</td>\n",
       "      <td>64756</td>\n",
       "    </tr>\n",
       "    <tr>\n",
       "      <th>8</th>\n",
       "      <td>9</td>\n",
       "      <td>soccer</td>\n",
       "      <td>57783</td>\n",
       "    </tr>\n",
       "    <tr>\n",
       "      <th>9</th>\n",
       "      <td>10</td>\n",
       "      <td>education</td>\n",
       "      <td>57436</td>\n",
       "    </tr>\n",
       "    <tr>\n",
       "      <th>10</th>\n",
       "      <td>11</td>\n",
       "      <td>fitness</td>\n",
       "      <td>55323</td>\n",
       "    </tr>\n",
       "    <tr>\n",
       "      <th>11</th>\n",
       "      <td>12</td>\n",
       "      <td>studying</td>\n",
       "      <td>54269</td>\n",
       "    </tr>\n",
       "    <tr>\n",
       "      <th>12</th>\n",
       "      <td>13</td>\n",
       "      <td>dogs</td>\n",
       "      <td>52511</td>\n",
       "    </tr>\n",
       "    <tr>\n",
       "      <th>13</th>\n",
       "      <td>14</td>\n",
       "      <td>tennis</td>\n",
       "      <td>50339</td>\n",
       "    </tr>\n",
       "    <tr>\n",
       "      <th>14</th>\n",
       "      <td>15</td>\n",
       "      <td>veganism</td>\n",
       "      <td>49619</td>\n",
       "    </tr>\n",
       "    <tr>\n",
       "      <th>15</th>\n",
       "      <td>16</td>\n",
       "      <td>public speaking</td>\n",
       "      <td>49264</td>\n",
       "    </tr>\n",
       "  </tbody>\n",
       "</table>\n",
       "</div>"
      ],
      "text/plain": [
       "    Ranking         Category  Score\n",
       "0         1          animals  74965\n",
       "1         2          science  71168\n",
       "2         3   healthy eating  69339\n",
       "3         4       technology  68738\n",
       "4         5             food  66676\n",
       "5         6          culture  66579\n",
       "6         7           travel  64880\n",
       "7         8          cooking  64756\n",
       "8         9           soccer  57783\n",
       "9        10        education  57436\n",
       "10       11          fitness  55323\n",
       "11       12         studying  54269\n",
       "12       13             dogs  52511\n",
       "13       14           tennis  50339\n",
       "14       15         veganism  49619\n",
       "15       16  public speaking  49264"
      ]
     },
     "execution_count": 53,
     "metadata": {},
     "output_type": "execute_result"
    }
   ],
   "source": [
    "result_sorted.reset_index(drop=True) # Dropping indices"
   ]
  },
  {
   "cell_type": "code",
   "execution_count": 54,
   "id": "f5646aee-a2c0-4507-9ba1-ad0fdbcc06c3",
   "metadata": {
    "tags": []
   },
   "outputs": [],
   "source": [
    "# Saving clean data in csv format\n",
    "file_path_top5 = 'C:/Users/Atif/Documents/Atif/3 Internships/Accenture Data Analysis internship/The_top_5_categories.csv'\n",
    "result_sorted.to_csv(file_path_top5, index=False) # index=True to include row index in csv file"
   ]
  },
  {
   "cell_type": "code",
   "execution_count": 55,
   "id": "16e6d776-6d9d-4bd9-92a8-98f07b5ba315",
   "metadata": {
    "tags": []
   },
   "outputs": [
    {
     "name": "stderr",
     "output_type": "stream",
     "text": [
      "C:\\Users\\Atif\\AppData\\Local\\Temp\\ipykernel_27560\\1501274541.py:19: FutureWarning: save is not part of the public API, usage can give unexpected results and will be removed in a future version\n",
      "  writer.save()\n"
     ]
    }
   ],
   "source": [
    "import pandas as pd\n",
    "from openpyxl import Workbook\n",
    "from openpyxl.utils.dataframe import dataframe_to_rows\n",
    "\n",
    "# Read the DataFrames from CSV files\n",
    "merged_df = pd.read_csv('merged_df.csv')\n",
    "top5 = pd.read_csv('The_top_5_categories.csv')\n",
    "\n",
    "# Create an Excel writer object\n",
    "writer = pd.ExcelWriter('cleaned_dataset_with_top_5_categories.xlsx', engine='openpyxl')\n",
    "\n",
    "# Write 'merged_df' to a separate sheet\n",
    "merged_df.to_excel(writer, sheet_name='merged_df', index=False)\n",
    "\n",
    "# Write 'top5' to a separate sheet\n",
    "top5.to_excel(writer, sheet_name='top5', index=False)\n",
    "\n",
    "# Save and close the Excel writer\n",
    "writer.save()"
   ]
  },
  {
   "cell_type": "markdown",
   "id": "9de5bf44-c086-46ba-accd-47bcf7679967",
   "metadata": {
    "tags": []
   },
   "source": [
    "## Uncover Insights"
   ]
  },
  {
   "cell_type": "markdown",
   "id": "ed6a0d72-f9d4-4447-a80c-b6085183ec74",
   "metadata": {},
   "source": [
    "## The top 5 content categories in a pie chart and in a bar chart"
   ]
  },
  {
   "cell_type": "code",
   "execution_count": 56,
   "id": "6347719c-33e7-44c5-970e-0d874719ebe6",
   "metadata": {
    "tags": []
   },
   "outputs": [
    {
     "name": "stdout",
     "output_type": "stream",
     "text": [
      "Top 5 category\n",
      "S.No\n",
      "1           Studying\n",
      "2    Public speaking\n",
      "3         Technology\n",
      "4             Tennis\n",
      "5               Dogs\n",
      "Name: Category, dtype: object\n"
     ]
    },
    {
     "data": {
      "image/png": "[encoded data removed]",
      "text/plain": [
       "<Figure size 700x500 with 1 Axes>"
      ]
     },
     "metadata": {},
     "output_type": "display_data"
    }
   ],
   "source": [
    "import seaborn as sns\n",
    "import matplotlib.pyplot as plt\n",
    "\n",
    "# Convert the data to a DataFrame\n",
    "#df = pd.DataFrame(result_sorted)\n",
    "\n",
    "\n",
    "# Create a DataFrame from the unique_categories_sorted\n",
    "#result_sorted = pd.DataFrame({'df': Category})\n",
    "\n",
    "# Capitalize the values in the 'Category' column\n",
    "result_sorted['Category'] = df['Category'].str.capitalize()\n",
    "\n",
    "# Reset the index starting from 1\n",
    "result_sorted.index = range(1, len(result_sorted) + 1)\n",
    "\n",
    "# Rename the index column to 'S.No'\n",
    "result_sorted.index.name = 'S.No'\n",
    "\n",
    "# Rename the column '0' to 'Top 5 Categories'\n",
    "result_sorted.rename(columns={1: 'Top 5 Categories'}, inplace=True)\n",
    "\n",
    "# Bar plot with Seaborn\n",
    "plt.figure(figsize=(7, 5))\n",
    "sns.barplot(x='Category', y='Score', data=result_sorted, palette='viridis')\n",
    "plt.xlabel('Category')\n",
    "plt.ylabel('Score')\n",
    "plt.title('Score by Category')\n",
    "plt.xticks(rotation=45)\n",
    "print(\"Top 5 category\")\n",
    "print(result_sorted['Category'].head(5))\n",
    "plt.show()"
   ]
  },
  {
   "cell_type": "code",
   "execution_count": 57,
   "id": "38cd27e9-24db-41be-9501-45d45cced897",
   "metadata": {
    "tags": []
   },
   "outputs": [
    {
     "data": {
      "image/png": "[encoded data removed]",
      "text/plain": [
       "<Figure size 800x600 with 1 Axes>"
      ]
     },
     "metadata": {},
     "output_type": "display_data"
    }
   ],
   "source": [
    "import seaborn as sns\n",
    "import matplotlib.pyplot as plt\n",
    "\n",
    "# Convert the data to a DataFrame\n",
    "df = pd.DataFrame(result_sorted)\n",
    "\n",
    "# Create a pie chart with Seaborn\n",
    "plt.figure(figsize=(8, 6))\n",
    "plt.pie(df['Score'], labels=df['Category'], autopct='%1.1f%%', colors=sns.color_palette('Spectral',len(df)))\n",
    "plt.title('Score Distribution by Category')\n",
    "plt.axis('equal')  # Equal aspect ratio ensures that pie is drawn as a circle.\n",
    "\n",
    "plt.show()"
   ]
  },
  {
   "cell_type": "markdown",
   "id": "b15f742f-f6e5-476b-a6be-fff0371905ef",
   "metadata": {},
   "source": [
    "## Other Interesting Insights"
   ]
  },
  {
   "cell_type": "markdown",
   "id": "9284c1dd-3d01-4824-88f6-578f6fc22a49",
   "metadata": {
    "tags": []
   },
   "source": [
    "### 1-How many unique categories are there?"
   ]
  },
  {
   "cell_type": "code",
   "execution_count": 58,
   "id": "23efa7af-ff3d-46c6-b3d3-4f2c27a5c2fb",
   "metadata": {
    "tags": []
   },
   "outputs": [
    {
     "name": "stdout",
     "output_type": "stream",
     "text": [
      "How many unique categories are there?\n",
      " The count of Unique_Categories    16\n",
      "dtype: int64\n"
     ]
    },
    {
     "data": {
      "text/html": [
       "<div>\n",
       "<style scoped>\n",
       "    .dataframe tbody tr th:only-of-type {\n",
       "        vertical-align: middle;\n",
       "    }\n",
       "\n",
       "    .dataframe tbody tr th {\n",
       "        vertical-align: top;\n",
       "    }\n",
       "\n",
       "    .dataframe thead th {\n",
       "        text-align: right;\n",
       "    }\n",
       "</style>\n",
       "<table border=\"1\" class=\"dataframe\">\n",
       "  <thead>\n",
       "    <tr style=\"text-align: right;\">\n",
       "      <th></th>\n",
       "      <th>Unique_Categories</th>\n",
       "    </tr>\n",
       "    <tr>\n",
       "      <th>S.No</th>\n",
       "      <th></th>\n",
       "    </tr>\n",
       "  </thead>\n",
       "  <tbody>\n",
       "    <tr>\n",
       "      <th>1</th>\n",
       "      <td>Animals</td>\n",
       "    </tr>\n",
       "    <tr>\n",
       "      <th>2</th>\n",
       "      <td>Cooking</td>\n",
       "    </tr>\n",
       "    <tr>\n",
       "      <th>3</th>\n",
       "      <td>Culture</td>\n",
       "    </tr>\n",
       "    <tr>\n",
       "      <th>4</th>\n",
       "      <td>Dogs</td>\n",
       "    </tr>\n",
       "    <tr>\n",
       "      <th>5</th>\n",
       "      <td>Education</td>\n",
       "    </tr>\n",
       "    <tr>\n",
       "      <th>6</th>\n",
       "      <td>Fitness</td>\n",
       "    </tr>\n",
       "    <tr>\n",
       "      <th>7</th>\n",
       "      <td>Food</td>\n",
       "    </tr>\n",
       "    <tr>\n",
       "      <th>8</th>\n",
       "      <td>Healthy eating</td>\n",
       "    </tr>\n",
       "    <tr>\n",
       "      <th>9</th>\n",
       "      <td>Public speaking</td>\n",
       "    </tr>\n",
       "    <tr>\n",
       "      <th>10</th>\n",
       "      <td>Science</td>\n",
       "    </tr>\n",
       "    <tr>\n",
       "      <th>11</th>\n",
       "      <td>Soccer</td>\n",
       "    </tr>\n",
       "    <tr>\n",
       "      <th>12</th>\n",
       "      <td>Studying</td>\n",
       "    </tr>\n",
       "    <tr>\n",
       "      <th>13</th>\n",
       "      <td>Technology</td>\n",
       "    </tr>\n",
       "    <tr>\n",
       "      <th>14</th>\n",
       "      <td>Tennis</td>\n",
       "    </tr>\n",
       "    <tr>\n",
       "      <th>15</th>\n",
       "      <td>Travel</td>\n",
       "    </tr>\n",
       "    <tr>\n",
       "      <th>16</th>\n",
       "      <td>Veganism</td>\n",
       "    </tr>\n",
       "  </tbody>\n",
       "</table>\n",
       "</div>"
      ],
      "text/plain": [
       "     Unique_Categories\n",
       "S.No                  \n",
       "1              Animals\n",
       "2              Cooking\n",
       "3              Culture\n",
       "4                 Dogs\n",
       "5            Education\n",
       "6              Fitness\n",
       "7                 Food\n",
       "8       Healthy eating\n",
       "9      Public speaking\n",
       "10             Science\n",
       "11              Soccer\n",
       "12            Studying\n",
       "13          Technology\n",
       "14              Tennis\n",
       "15              Travel\n",
       "16            Veganism"
      ]
     },
     "execution_count": 58,
     "metadata": {},
     "output_type": "execute_result"
    }
   ],
   "source": [
    "# Assuming you have already created the 'unique_categories' list\n",
    "unique_categories = merged_df['Category'].unique().tolist()\n",
    "\n",
    "# Sort the unique categories alphabetically\n",
    "unique_categories_sorted = sorted(unique_categories)\n",
    "\n",
    "# Create a DataFrame from the unique_categories_sorted\n",
    "sorted_df = pd.DataFrame({'Unique_Categories': unique_categories_sorted})\n",
    "\n",
    "# Capitalize the values in the 'Unique_Categories' column\n",
    "sorted_df['Unique_Categories'] = sorted_df['Unique_Categories'].str.capitalize()\n",
    "\n",
    "# Reset the index starting from 1\n",
    "sorted_df.index = range(1, len(sorted_df) + 1)\n",
    "\n",
    "# Rename the index column to 'S.No'\n",
    "sorted_df.index.name = 'S.No'\n",
    "\n",
    "unique_count = sorted_df.count()\n",
    "print(\"How many unique categories are there?\")\n",
    "print(f\" The count of {unique_count}\")\n",
    "sorted_df"
   ]
  },
  {
   "cell_type": "markdown",
   "id": "d6cdf2ea-fec3-4fc8-a5e2-b7d40d08e55f",
   "metadata": {},
   "source": [
    "### 2-How many reactions are there to the most popular category ?"
   ]
  },
  {
   "cell_type": "code",
   "execution_count": 59,
   "id": "da6c09c3-d515-42d6-92cd-ea6c2afa238f",
   "metadata": {
    "tags": []
   },
   "outputs": [
    {
     "name": "stdout",
     "output_type": "stream",
     "text": [
      "How many reactions are there to the most popular category?\n",
      "The most popular category have : 1897 reactions.\n"
     ]
    },
    {
     "data": {
      "image/png": "[encoded data removed]",
      "text/plain": [
       "<Figure size 1000x400 with 2 Axes>"
      ]
     },
     "metadata": {},
     "output_type": "display_data"
    }
   ],
   "source": [
    "import pandas as pd\n",
    "import seaborn as sns\n",
    "import matplotlib.pyplot as plt\n",
    "\n",
    "# Count the 'Reactions type' for reactions received on each 'Category'\n",
    "result_r = merged_df.groupby('Category')['Reaction Type'].count().reset_index()\n",
    "\n",
    "# Sort the DataFrame by the 'Reaction Type' count in descending order\n",
    "result_sorted_r = result_r.sort_values(by='Reaction Type', ascending=False)\n",
    "\n",
    "# Capitalize the values in the 'Category' column\n",
    "result_sorted_r['Category'] = result_sorted_r['Category'].str.capitalize()\n",
    "\n",
    "# Reset the index starting from 1\n",
    "result_sorted_r.index = range(1, len(result_sorted_r) + 1)\n",
    "\n",
    "# Rename the index column to 'S.No'\n",
    "result_sorted_r.index.name = 'S.No'\n",
    "\n",
    "# Rename the 'Old_Column_Name' to 'New_Column_Name'\n",
    "result_sorted_r.rename(columns={'Reaction Type': 'Count_Reaction_Type'}, inplace=True)\n",
    "\n",
    "# Create a figure with two subplots (1 row, 2 columns)\n",
    "fig, axes = plt.subplots(1, 2, figsize=(10, 4))\n",
    "\n",
    "# Plot 1: DataFrame table\n",
    "ax1 = axes[0]\n",
    "ax1.axis('off')  # Turn off axis\n",
    "table_data = [result_sorted_r.columns] + result_sorted_r.values.tolist()\n",
    "ax1.table(cellText=table_data, colLabels=None, cellLoc='center', loc='center')\n",
    "\n",
    "# Plot 2: Bar plot\n",
    "ax2 = axes[1]\n",
    "sns.barplot(x='Category', y='Count_Reaction_Type', data=result_sorted_r, palette='viridis', ax=ax2)\n",
    "ax2.set_xlabel('Category')\n",
    "ax2.set_ylabel('No. of Reactions')\n",
    "ax2.set_title('No. of Reactions to each category')\n",
    "ax2.set_xticklabels(result_sorted_r['Category'], rotation=45)\n",
    "\n",
    "print(f\"How many reactions are there to the most popular category?\")\n",
    "print(f\"The most popular category have : {result_sorted_r['Count_Reaction_Type'][1]} reactions.\")\n",
    "\n",
    "# Adjust spacing between subplots\n",
    "plt.tight_layout()\n",
    "\n",
    "# Show the combined visualization\n",
    "plt.show()"
   ]
  },
  {
   "cell_type": "markdown",
   "id": "5d2f891c-29c8-4cab-9a8b-a1d4633e609e",
   "metadata": {},
   "source": [
    "## 3-What was the month with the most posts?"
   ]
  },
  {
   "cell_type": "code",
   "execution_count": 60,
   "id": "f91e3b5a-92a8-4a4a-9290-3bcab813a131",
   "metadata": {
    "tags": []
   },
   "outputs": [
    {
     "name": "stderr",
     "output_type": "stream",
     "text": [
      "C:\\Users\\Atif\\AppData\\Local\\Temp\\ipykernel_27560\\1540320240.py:29: UserWarning: FixedFormatter should only be used together with FixedLocator\n",
      "  ax1.set_xticklabels(result_new_df['Month'], rotation=45)\n"
     ]
    },
    {
     "name": "stdout",
     "output_type": "stream",
     "text": [
      "What was the month with the most posts?\n",
      "The month with the most posts is : May.\n"
     ]
    },
    {
     "data": {
      "image/png": "[encoded data removed]",
      "text/plain": [
       "<Figure size 800x400 with 2 Axes>"
      ]
     },
     "metadata": {},
     "output_type": "display_data"
    }
   ],
   "source": [
    "import pandas as pd\n",
    "import matplotlib.pyplot as plt\n",
    "import seaborn as sns\n",
    "\n",
    "\n",
    "# Convert 'Datetime' column to datetime data type\n",
    "merged_df['Datetime'] = pd.to_datetime(merged_df['Datetime'])\n",
    "\n",
    "# Extract the month and create a new 'Month' column\n",
    "merged_df['Month'] = merged_df['Datetime'].dt.strftime('%B')\n",
    "\n",
    "# Count the posts for each month\n",
    "month_counts = merged_df['Month'].value_counts()\n",
    "\n",
    "# Creating new DataFrame with named columns\n",
    "result_new_df = pd.DataFrame({'Month': month_counts.index, 'Post_Count': month_counts.values})\n",
    "\n",
    "# Find the month with the most posts\n",
    "most_posts_month = month_counts.idxmax()\n",
    "\n",
    "# Create a figure with two subplots (1 row, 2 columns)\n",
    "fig, (ax1, ax2) = plt.subplots(1, 2, figsize=(8, 4) )\n",
    "\n",
    "# Line plot on the left subplot (ax1)\n",
    "ax1.plot(result_new_df['Month'], result_new_df['Post_Count'], marker='o', linestyle='-', color='b')\n",
    "ax1.set_xlabel('Month')\n",
    "ax1.set_ylabel('Post Count')\n",
    "ax1.set_title('Post Counts Over Months')\n",
    "ax1.set_xticklabels(result_new_df['Month'], rotation=45)\n",
    "ax1.grid(True)\n",
    "\n",
    "# Table on the right subplot (ax2)\n",
    "ax2.axis('off')  # Turn off axis\n",
    "table_data = [result_new_df.columns] + result_new_df.values.tolist()\n",
    "ax2.table(cellText=table_data, colLabels=None, cellLoc='center', loc='center')\n",
    "\n",
    "# Adjust spacing between subplots\n",
    "plt.tight_layout()\n",
    "print(f\"What was the month with the most posts?\")\n",
    "# Print the message with the most posts month\n",
    "print(f\"The month with the most posts is : {most_posts_month}.\")\n",
    "# Show the combined visualization\n",
    "plt.show()"
   ]
  },
  {
   "cell_type": "raw",
   "id": "84f12989-c57b-4a23-a5eb-a1e239e8188d",
   "metadata": {},
   "source": [
    "Summary\n",
    "\n",
    "The analysis of data of social Buzz reveals valuable insights, providing a clear understanding of the most popular categories and posting trends:\n",
    "1. Top 5 Popular Categories:\n",
    "The analysis identifies the top 5 most popular categories based on their combined score and post counts. These categories are Animals, Science, Healthy Eating, Food, and Technology. They collectively account for 36% of the total population of posts.\n",
    "2. Seasonal Posting Trends:\n",
    "The analysis also unveils the posting trends over the months of the year. May exhibits the highest posting activity, followed by a rapid decrease in postings from January to February. The months with high and low posting activity, such as May and February, warrant further exploration to understand the underlying factors driving these variations.\n",
    "\n",
    "Understanding these insights can be crucial for strategic decision-making and content planning. Exploring the root causes of posting fluctuations in specific months can help tailor content strategies and engagement efforts to maximize the impact and reach of posts across different categories and time periods and utilize resources accordingly."
   ]
  }
 ],
 "metadata": {
  "colab": {
   "provenance": []
  },
  "kernelspec": {
   "display_name": "Python 3 (ipykernel)",
   "language": "python",
   "name": "python3"
  },
  "language_info": {
   "codemirror_mode": {
    "name": "ipython",
    "version": 3
   },
   "file_extension": ".py",
   "mimetype": "text/x-python",
   "name": "python",
   "nbconvert_exporter": "python",
   "pygments_lexer": "ipython3",
   "version": "3.11.3"
  }
 },
 "nbformat": 4,
 "nbformat_minor": 5
}
